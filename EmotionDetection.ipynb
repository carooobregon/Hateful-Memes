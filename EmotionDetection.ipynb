{
  "nbformat": 4,
  "nbformat_minor": 0,
  "metadata": {
    "colab": {
      "name": "EmotionDetection.ipynb",
      "provenance": [],
      "collapsed_sections": []
    },
    "kernelspec": {
      "name": "python3",
      "display_name": "Python 3"
    },
    "language_info": {
      "name": "python"
    }
  },
  "cells": [
    {
      "cell_type": "code",
      "metadata": {
        "colab": {
          "base_uri": "https://localhost:8080/"
        },
        "id": "mxVILNWlQCDM",
        "outputId": "e1b054a9-1dd1-4938-a1a0-5a07585acd01"
      },
      "source": [
        "from google.colab import drive\n",
        "drive.mount('/content/drive')\n"
      ],
      "execution_count": 1,
      "outputs": [
        {
          "output_type": "stream",
          "name": "stdout",
          "text": [
            "Mounted at /content/drive\n"
          ]
        }
      ]
    },
    {
      "cell_type": "code",
      "metadata": {
        "colab": {
          "base_uri": "https://localhost:8080/"
        },
        "id": "k4qWiLgZbLCo",
        "outputId": "9df4cf77-7099-45a1-f302-ef8ab1513b08"
      },
      "source": [
        "! pip install pypaz"
      ],
      "execution_count": 2,
      "outputs": [
        {
          "output_type": "stream",
          "name": "stdout",
          "text": [
            "Collecting pypaz\n",
            "  Downloading pypaz-0.1.6-py3-none-any.whl (90 kB)\n",
            "\u001b[?25l\r\u001b[K     |███▋                            | 10 kB 20.9 MB/s eta 0:00:01\r\u001b[K     |███████▎                        | 20 kB 26.3 MB/s eta 0:00:01\r\u001b[K     |███████████                     | 30 kB 15.2 MB/s eta 0:00:01\r\u001b[K     |██████████████▌                 | 40 kB 11.5 MB/s eta 0:00:01\r\u001b[K     |██████████████████▏             | 51 kB 5.8 MB/s eta 0:00:01\r\u001b[K     |█████████████████████▉          | 61 kB 5.9 MB/s eta 0:00:01\r\u001b[K     |█████████████████████████▌      | 71 kB 5.5 MB/s eta 0:00:01\r\u001b[K     |█████████████████████████████   | 81 kB 6.2 MB/s eta 0:00:01\r\u001b[K     |████████████████████████████████| 90 kB 3.9 MB/s \n",
            "\u001b[?25hRequirement already satisfied: opencv-python in /usr/local/lib/python3.7/dist-packages (from pypaz) (4.1.2.30)\n",
            "Requirement already satisfied: numpy in /usr/local/lib/python3.7/dist-packages (from pypaz) (1.19.5)\n",
            "Requirement already satisfied: tensorflow in /usr/local/lib/python3.7/dist-packages (from pypaz) (2.7.0)\n",
            "Requirement already satisfied: flatbuffers<3.0,>=1.12 in /usr/local/lib/python3.7/dist-packages (from tensorflow->pypaz) (2.0)\n",
            "Requirement already satisfied: opt-einsum>=2.3.2 in /usr/local/lib/python3.7/dist-packages (from tensorflow->pypaz) (3.3.0)\n",
            "Requirement already satisfied: google-pasta>=0.1.1 in /usr/local/lib/python3.7/dist-packages (from tensorflow->pypaz) (0.2.0)\n",
            "Requirement already satisfied: gast<0.5.0,>=0.2.1 in /usr/local/lib/python3.7/dist-packages (from tensorflow->pypaz) (0.4.0)\n",
            "Requirement already satisfied: protobuf>=3.9.2 in /usr/local/lib/python3.7/dist-packages (from tensorflow->pypaz) (3.17.3)\n",
            "Requirement already satisfied: grpcio<2.0,>=1.24.3 in /usr/local/lib/python3.7/dist-packages (from tensorflow->pypaz) (1.42.0)\n",
            "Requirement already satisfied: tensorflow-estimator<2.8,~=2.7.0rc0 in /usr/local/lib/python3.7/dist-packages (from tensorflow->pypaz) (2.7.0)\n",
            "Requirement already satisfied: tensorboard~=2.6 in /usr/local/lib/python3.7/dist-packages (from tensorflow->pypaz) (2.7.0)\n",
            "Requirement already satisfied: libclang>=9.0.1 in /usr/local/lib/python3.7/dist-packages (from tensorflow->pypaz) (12.0.0)\n",
            "Requirement already satisfied: wheel<1.0,>=0.32.0 in /usr/local/lib/python3.7/dist-packages (from tensorflow->pypaz) (0.37.0)\n",
            "Requirement already satisfied: astunparse>=1.6.0 in /usr/local/lib/python3.7/dist-packages (from tensorflow->pypaz) (1.6.3)\n",
            "Requirement already satisfied: keras<2.8,>=2.7.0rc0 in /usr/local/lib/python3.7/dist-packages (from tensorflow->pypaz) (2.7.0)\n",
            "Requirement already satisfied: keras-preprocessing>=1.1.1 in /usr/local/lib/python3.7/dist-packages (from tensorflow->pypaz) (1.1.2)\n",
            "Requirement already satisfied: h5py>=2.9.0 in /usr/local/lib/python3.7/dist-packages (from tensorflow->pypaz) (3.1.0)\n",
            "Requirement already satisfied: wrapt>=1.11.0 in /usr/local/lib/python3.7/dist-packages (from tensorflow->pypaz) (1.13.3)\n",
            "Requirement already satisfied: termcolor>=1.1.0 in /usr/local/lib/python3.7/dist-packages (from tensorflow->pypaz) (1.1.0)\n",
            "Requirement already satisfied: six>=1.12.0 in /usr/local/lib/python3.7/dist-packages (from tensorflow->pypaz) (1.15.0)\n",
            "Requirement already satisfied: typing-extensions>=3.6.6 in /usr/local/lib/python3.7/dist-packages (from tensorflow->pypaz) (3.10.0.2)\n",
            "Requirement already satisfied: tensorflow-io-gcs-filesystem>=0.21.0 in /usr/local/lib/python3.7/dist-packages (from tensorflow->pypaz) (0.22.0)\n",
            "Requirement already satisfied: absl-py>=0.4.0 in /usr/local/lib/python3.7/dist-packages (from tensorflow->pypaz) (0.12.0)\n",
            "Requirement already satisfied: cached-property in /usr/local/lib/python3.7/dist-packages (from h5py>=2.9.0->tensorflow->pypaz) (1.5.2)\n",
            "Requirement already satisfied: google-auth<3,>=1.6.3 in /usr/local/lib/python3.7/dist-packages (from tensorboard~=2.6->tensorflow->pypaz) (1.35.0)\n",
            "Requirement already satisfied: requests<3,>=2.21.0 in /usr/local/lib/python3.7/dist-packages (from tensorboard~=2.6->tensorflow->pypaz) (2.23.0)\n",
            "Requirement already satisfied: tensorboard-data-server<0.7.0,>=0.6.0 in /usr/local/lib/python3.7/dist-packages (from tensorboard~=2.6->tensorflow->pypaz) (0.6.1)\n",
            "Requirement already satisfied: markdown>=2.6.8 in /usr/local/lib/python3.7/dist-packages (from tensorboard~=2.6->tensorflow->pypaz) (3.3.6)\n",
            "Requirement already satisfied: setuptools>=41.0.0 in /usr/local/lib/python3.7/dist-packages (from tensorboard~=2.6->tensorflow->pypaz) (57.4.0)\n",
            "Requirement already satisfied: tensorboard-plugin-wit>=1.6.0 in /usr/local/lib/python3.7/dist-packages (from tensorboard~=2.6->tensorflow->pypaz) (1.8.0)\n",
            "Requirement already satisfied: google-auth-oauthlib<0.5,>=0.4.1 in /usr/local/lib/python3.7/dist-packages (from tensorboard~=2.6->tensorflow->pypaz) (0.4.6)\n",
            "Requirement already satisfied: werkzeug>=0.11.15 in /usr/local/lib/python3.7/dist-packages (from tensorboard~=2.6->tensorflow->pypaz) (1.0.1)\n",
            "Requirement already satisfied: cachetools<5.0,>=2.0.0 in /usr/local/lib/python3.7/dist-packages (from google-auth<3,>=1.6.3->tensorboard~=2.6->tensorflow->pypaz) (4.2.4)\n",
            "Requirement already satisfied: pyasn1-modules>=0.2.1 in /usr/local/lib/python3.7/dist-packages (from google-auth<3,>=1.6.3->tensorboard~=2.6->tensorflow->pypaz) (0.2.8)\n",
            "Requirement already satisfied: rsa<5,>=3.1.4 in /usr/local/lib/python3.7/dist-packages (from google-auth<3,>=1.6.3->tensorboard~=2.6->tensorflow->pypaz) (4.7.2)\n",
            "Requirement already satisfied: requests-oauthlib>=0.7.0 in /usr/local/lib/python3.7/dist-packages (from google-auth-oauthlib<0.5,>=0.4.1->tensorboard~=2.6->tensorflow->pypaz) (1.3.0)\n",
            "Requirement already satisfied: importlib-metadata>=4.4 in /usr/local/lib/python3.7/dist-packages (from markdown>=2.6.8->tensorboard~=2.6->tensorflow->pypaz) (4.8.2)\n",
            "Requirement already satisfied: zipp>=0.5 in /usr/local/lib/python3.7/dist-packages (from importlib-metadata>=4.4->markdown>=2.6.8->tensorboard~=2.6->tensorflow->pypaz) (3.6.0)\n",
            "Requirement already satisfied: pyasn1<0.5.0,>=0.4.6 in /usr/local/lib/python3.7/dist-packages (from pyasn1-modules>=0.2.1->google-auth<3,>=1.6.3->tensorboard~=2.6->tensorflow->pypaz) (0.4.8)\n",
            "Requirement already satisfied: idna<3,>=2.5 in /usr/local/lib/python3.7/dist-packages (from requests<3,>=2.21.0->tensorboard~=2.6->tensorflow->pypaz) (2.10)\n",
            "Requirement already satisfied: certifi>=2017.4.17 in /usr/local/lib/python3.7/dist-packages (from requests<3,>=2.21.0->tensorboard~=2.6->tensorflow->pypaz) (2021.10.8)\n",
            "Requirement already satisfied: urllib3!=1.25.0,!=1.25.1,<1.26,>=1.21.1 in /usr/local/lib/python3.7/dist-packages (from requests<3,>=2.21.0->tensorboard~=2.6->tensorflow->pypaz) (1.24.3)\n",
            "Requirement already satisfied: chardet<4,>=3.0.2 in /usr/local/lib/python3.7/dist-packages (from requests<3,>=2.21.0->tensorboard~=2.6->tensorflow->pypaz) (3.0.4)\n",
            "Requirement already satisfied: oauthlib>=3.0.0 in /usr/local/lib/python3.7/dist-packages (from requests-oauthlib>=0.7.0->google-auth-oauthlib<0.5,>=0.4.1->tensorboard~=2.6->tensorflow->pypaz) (3.1.1)\n",
            "Installing collected packages: pypaz\n",
            "Successfully installed pypaz-0.1.6\n"
          ]
        }
      ]
    },
    {
      "cell_type": "code",
      "metadata": {
        "colab": {
          "base_uri": "https://localhost:8080/"
        },
        "id": "XBDQbS-WbMTN",
        "outputId": "e3e5a095-594c-4907-9cba-3e3fd4e0b8dd"
      },
      "source": [
        "from paz.applications import HaarCascadeFrontalFace, MiniXceptionFER\n",
        "import paz.processors as pr\n",
        "\n",
        "class EmotionDetector(pr.Processor):\n",
        "    def __init__(self):\n",
        "        super(EmotionDetector, self).__init__()\n",
        "        self.detect = HaarCascadeFrontalFace(draw=False)\n",
        "        self.crop = pr.CropBoxes2D()\n",
        "        self.classify = MiniXceptionFER()\n",
        "        self.draw = pr.DrawBoxes2D(self.classify.class_names)\n",
        "\n",
        "    def call(self, image):\n",
        "        boxes2D = self.detect(image)['boxes2D']\n",
        "        cropped_images = self.crop(image, boxes2D)\n",
        "        for cropped_image, box2D in zip(cropped_images, boxes2D):\n",
        "            box2D.class_name = self.classify(cropped_image)['class_name']\n",
        "            return box2D.class_name\n",
        "        return \"NA\"\n",
        "        \n",
        "detect = EmotionDetector()\n",
        "# you can now apply it to an image (numpy array)"
      ],
      "execution_count": 3,
      "outputs": [
        {
          "output_type": "stream",
          "name": "stdout",
          "text": [
            "Downloading data from https://raw.githubusercontent.com/opencv/opencv/master/data/haarcascades/haarcascade_frontalface_default.xml\n",
            "933888/930127 [==============================] - 0s 0us/step\n",
            "942080/930127 [==============================] - 0s 0us/step\n",
            "Downloading data from https://github.com/oarriaga/altamira-data/releases/download/v0.6/fer2013_mini_XCEPTION.119-0.65.hdf5\n",
            "868352/868256 [==============================] - 0s 0us/step\n",
            "876544/868256 [==============================] - 0s 0us/step\n",
            "WARNING:tensorflow:Error in loading the saved optimizer state. As a result, your model is starting with a freshly initialized optimizer.\n"
          ]
        }
      ]
    },
    {
      "cell_type": "code",
      "metadata": {
        "id": "leqgksPUcHQ-"
      },
      "source": [
        "import numpy as np \n",
        "from matplotlib import pyplot as plt\n",
        "from PIL import Image"
      ],
      "execution_count": 4,
      "outputs": []
    },
    {
      "cell_type": "code",
      "metadata": {
        "id": "BAiJRgW8XYDk"
      },
      "source": [
        "def drawLabel(name):\n",
        "  name += \".png\"\n",
        "  image = Image.open(name)\n",
        "  image = np.array(image)\n",
        "  predictions = detect(image)\n",
        "  plt.imshow(predictions, interpolation='nearest')\n",
        "  plt.show()"
      ],
      "execution_count": 5,
      "outputs": []
    },
    {
      "cell_type": "code",
      "metadata": {
        "id": "luRSiu1DioVg"
      },
      "source": [
        "def detectPicture(name):\n",
        "  test_pictures_path = \"/content/drive/Shareddrives/ProyectoTecnologíasEmergentes/ProyectoFinalFinal/ModeloMultimodal/dataset/Fotos_Prueba/\"\n",
        "  name = test_pictures_path + name + \".png\"\n",
        "  image = Image.open(name)\n",
        "  image = np.array(image)\n",
        "  predictions = detect(image)\n",
        "  return predictions"
      ],
      "execution_count": 6,
      "outputs": []
    },
    {
      "cell_type": "code",
      "metadata": {
        "colab": {
          "base_uri": "https://localhost:8080/",
          "height": 35
        },
        "id": "JIxEGhDWhgQK",
        "outputId": "d96cb5c3-e2c7-43ab-a59b-93d5ca606cd1"
      },
      "source": [
        "detectPicture(\"1\")"
      ],
      "execution_count": null,
      "outputs": [
        {
          "output_type": "execute_result",
          "data": {
            "application/vnd.google.colaboratory.intrinsic+json": {
              "type": "string"
            },
            "text/plain": [
              "'angry'"
            ]
          },
          "metadata": {},
          "execution_count": 7
        }
      ]
    },
    {
      "cell_type": "code",
      "metadata": {
        "colab": {
          "base_uri": "https://localhost:8080/"
        },
        "id": "xJN0Hm1gXFuB",
        "outputId": "b433ac4e-efb7-454a-b4ad-242d07e38112"
      },
      "source": [
        "count = 1\n",
        "curr = {}\n",
        "all = []\n",
        "moods = {}\n",
        "while count < 23:\n",
        "  if count == 15:\n",
        "    all.append([15, \"NA\"])\n",
        "    count = 16\n",
        "  print(\"in pic\", count)\n",
        "  print(detectPicture(str(count)))\n",
        "  all.append([count, detectPicture(str(count))])\n",
        "  count +=1"
      ],
      "execution_count": 7,
      "outputs": [
        {
          "output_type": "stream",
          "name": "stdout",
          "text": [
            "in pic 1\n",
            "angry\n",
            "in pic 2\n",
            "NA\n",
            "in pic 3\n",
            "NA\n",
            "in pic 4\n",
            "happy\n",
            "in pic 5\n",
            "NA\n",
            "in pic 6\n",
            "neutral\n",
            "in pic 7\n",
            "NA\n",
            "in pic 8\n",
            "NA\n",
            "in pic 9\n",
            "NA\n",
            "in pic 10\n",
            "NA\n",
            "in pic 11\n",
            "NA\n",
            "in pic 12\n",
            "happy\n",
            "in pic 13\n",
            "happy\n",
            "in pic 14\n",
            "NA\n",
            "in pic 16\n",
            "NA\n",
            "in pic 17\n",
            "NA\n",
            "in pic 18\n",
            "NA\n",
            "in pic 19\n",
            "NA\n",
            "in pic 20\n",
            "NA\n",
            "in pic 21\n",
            "NA\n",
            "in pic 22\n",
            "NA\n"
          ]
        }
      ]
    },
    {
      "cell_type": "code",
      "metadata": {
        "colab": {
          "base_uri": "https://localhost:8080/"
        },
        "id": "GTTRNyvpj0dX",
        "outputId": "3feb8a81-5cc9-4eeb-e97f-e3c4fa985c95"
      },
      "source": [
        "print(all)"
      ],
      "execution_count": 8,
      "outputs": [
        {
          "output_type": "stream",
          "name": "stdout",
          "text": [
            "[[1, 'angry'], [2, 'NA'], [3, 'NA'], [4, 'happy'], [5, 'NA'], [6, 'neutral'], [7, 'NA'], [8, 'NA'], [9, 'NA'], [10, 'NA'], [11, 'NA'], [12, 'happy'], [13, 'happy'], [14, 'NA'], [15, 'NA'], [16, 'NA'], [17, 'NA'], [18, 'NA'], [19, 'NA'], [20, 'NA'], [21, 'NA'], [22, 'NA']]\n"
          ]
        }
      ]
    },
    {
      "cell_type": "code",
      "metadata": {
        "id": "oBpr8Y0TkFbu"
      },
      "source": [
        "import csv\n",
        "\n",
        "with open(\"out.csv\", \"w\", newline=\"\") as f:\n",
        "    writer = csv.writer(f)\n",
        "    writer.writerows(all)"
      ],
      "execution_count": 9,
      "outputs": []
    },
    {
      "cell_type": "code",
      "metadata": {
        "id": "hQijCxCUlB3l"
      },
      "source": [
        ""
      ],
      "execution_count": null,
      "outputs": []
    }
  ]
}