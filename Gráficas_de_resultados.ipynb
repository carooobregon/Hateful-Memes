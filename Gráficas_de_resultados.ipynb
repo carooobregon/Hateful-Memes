{
  "nbformat": 4,
  "nbformat_minor": 0,
  "metadata": {
    "colab": {
      "name": "Gráficas_de_resultados.ipynb",
      "provenance": [],
      "collapsed_sections": [],
      "authorship_tag": "ABX9TyOvqi8/zietESgKxcBY3DDn",
      "include_colab_link": true
    },
    "kernelspec": {
      "name": "python3",
      "display_name": "Python 3"
    },
    "language_info": {
      "name": "python"
    }
  },
  "cells": [
    {
      "cell_type": "markdown",
      "metadata": {
        "id": "view-in-github",
        "colab_type": "text"
      },
      "source": [
        "<a href=\"https://colab.research.google.com/github/carooobregon/Hateful-Memes/blob/main/Gr%C3%A1ficas_de_resultados.ipynb\" target=\"_parent\"><img src=\"https://colab.research.google.com/assets/colab-badge.svg\" alt=\"Open In Colab\"/></a>"
      ]
    },
    {
      "cell_type": "code",
      "metadata": {
        "colab": {
          "base_uri": "https://localhost:8080/"
        },
        "id": "kQ_k8ufj-Vak",
        "outputId": "05742f41-857d-40d9-8d56-ab79c13ddd90"
      },
      "source": [
        "from google.colab import drive\n",
        "drive.mount('/content/drive')"
      ],
      "execution_count": 35,
      "outputs": [
        {
          "output_type": "stream",
          "name": "stdout",
          "text": [
            "Drive already mounted at /content/drive; to attempt to forcibly remount, call drive.mount(\"/content/drive\", force_remount=True).\n"
          ]
        }
      ]
    },
    {
      "cell_type": "code",
      "metadata": {
        "id": "NvpSLfTH_TzW"
      },
      "source": [
        "output_ocr = '/content/drive/Shareddrives/ProyectoTecnologíasEmergentes/ProyectoFinalFinal/ModeloMultimodal/dataset/Fotos_Prueba/test_images.csv'"
      ],
      "execution_count": 36,
      "outputs": []
    },
    {
      "cell_type": "code",
      "metadata": {
        "id": "lx9yAx_SAduG"
      },
      "source": [
        "output_nlp = '/content/drive/Shareddrives/ProyectoTecnologíasEmergentes/Datasets/test_images.csv'"
      ],
      "execution_count": 37,
      "outputs": []
    },
    {
      "cell_type": "code",
      "metadata": {
        "id": "l6kjUY7UGE5M"
      },
      "source": [
        "output_cnn = '/content/drive/Shareddrives/ProyectoTecnologíasEmergentes/Datasets/out.csv'"
      ],
      "execution_count": 38,
      "outputs": []
    },
    {
      "cell_type": "code",
      "metadata": {
        "id": "d_ha8P5nGNtV"
      },
      "source": [
        "import pandas as pd\n",
        "df_ocr = pd.read_csv('/content/drive/Shareddrives/ProyectoTecnologíasEmergentes/ProyectoFinalFinal/ModeloMultimodal/dataset/Fotos_Prueba/test_images.csv')\n",
        "df_nlp = pd.read_csv('/content/drive/Shareddrives/ProyectoTecnologíasEmergentes/Results/text_classification.csv')\n",
        "df_cnn = pd.read_csv('/content/drive/Shareddrives/ProyectoTecnologíasEmergentes/Datasets/out.csv')"
      ],
      "execution_count": 39,
      "outputs": []
    },
    {
      "cell_type": "code",
      "metadata": {
        "colab": {
          "base_uri": "https://localhost:8080/",
          "height": 206
        },
        "id": "6nbl4R1UGgzV",
        "outputId": "38177fe2-fc57-4094-c44b-7177881b2c51"
      },
      "source": [
        "df_ocr.head()"
      ],
      "execution_count": 40,
      "outputs": [
        {
          "output_type": "execute_result",
          "data": {
            "text/html": [
              "<div>\n",
              "<style scoped>\n",
              "    .dataframe tbody tr th:only-of-type {\n",
              "        vertical-align: middle;\n",
              "    }\n",
              "\n",
              "    .dataframe tbody tr th {\n",
              "        vertical-align: top;\n",
              "    }\n",
              "\n",
              "    .dataframe thead th {\n",
              "        text-align: right;\n",
              "    }\n",
              "</style>\n",
              "<table border=\"1\" class=\"dataframe\">\n",
              "  <thead>\n",
              "    <tr style=\"text-align: right;\">\n",
              "      <th></th>\n",
              "      <th>Unnamed: 0</th>\n",
              "      <th>Memes</th>\n",
              "      <th>Transcription</th>\n",
              "    </tr>\n",
              "  </thead>\n",
              "  <tbody>\n",
              "    <tr>\n",
              "      <th>0</th>\n",
              "      <td>0</td>\n",
              "      <td>1.png</td>\n",
              "      <td>vou CaI'he racist ifthere iS H1O other race</td>\n",
              "    </tr>\n",
              "    <tr>\n",
              "      <th>1</th>\n",
              "      <td>1</td>\n",
              "      <td>2.png</td>\n",
              "      <td>wlien vour tlehit carullecline at the ahortion...</td>\n",
              "    </tr>\n",
              "    <tr>\n",
              "      <th>2</th>\n",
              "      <td>2</td>\n",
              "      <td>3.png</td>\n",
              "      <td>ladies! if your manIs offended by thishe is a ...</td>\n",
              "    </tr>\n",
              "    <tr>\n",
              "      <th>3</th>\n",
              "      <td>3</td>\n",
              "      <td>4.png</td>\n",
              "      <td>father aud daughter bondingtime is the hestIik...</td>\n",
              "    </tr>\n",
              "    <tr>\n",
              "      <th>4</th>\n",
              "      <td>4</td>\n",
              "      <td>5.png</td>\n",
              "      <td>a smile iS worth athousand words</td>\n",
              "    </tr>\n",
              "  </tbody>\n",
              "</table>\n",
              "</div>"
            ],
            "text/plain": [
              "   Unnamed: 0  Memes                                      Transcription\n",
              "0           0  1.png        vou CaI'he racist ifthere iS H1O other race\n",
              "1           1  2.png  wlien vour tlehit carullecline at the ahortion...\n",
              "2           2  3.png  ladies! if your manIs offended by thishe is a ...\n",
              "3           3  4.png  father aud daughter bondingtime is the hestIik...\n",
              "4           4  5.png                   a smile iS worth athousand words"
            ]
          },
          "metadata": {},
          "execution_count": 40
        }
      ]
    },
    {
      "cell_type": "code",
      "metadata": {
        "colab": {
          "base_uri": "https://localhost:8080/",
          "height": 206
        },
        "id": "lovXbDwaGwPA",
        "outputId": "4cad3a63-4557-405b-a16a-02f275f973e9"
      },
      "source": [
        "df_nlp.head()"
      ],
      "execution_count": 41,
      "outputs": [
        {
          "output_type": "execute_result",
          "data": {
            "text/html": [
              "<div>\n",
              "<style scoped>\n",
              "    .dataframe tbody tr th:only-of-type {\n",
              "        vertical-align: middle;\n",
              "    }\n",
              "\n",
              "    .dataframe tbody tr th {\n",
              "        vertical-align: top;\n",
              "    }\n",
              "\n",
              "    .dataframe thead th {\n",
              "        text-align: right;\n",
              "    }\n",
              "</style>\n",
              "<table border=\"1\" class=\"dataframe\">\n",
              "  <thead>\n",
              "    <tr style=\"text-align: right;\">\n",
              "      <th></th>\n",
              "      <th>Unnamed: 0</th>\n",
              "      <th>Unnamed: 0.1</th>\n",
              "      <th>Memes</th>\n",
              "      <th>Transcription</th>\n",
              "      <th>Classification</th>\n",
              "    </tr>\n",
              "  </thead>\n",
              "  <tbody>\n",
              "    <tr>\n",
              "      <th>0</th>\n",
              "      <td>0</td>\n",
              "      <td>0</td>\n",
              "      <td>01247.png</td>\n",
              "      <td>vou CaI'he racist ifthere iS H1O other race</td>\n",
              "      <td>neutral</td>\n",
              "    </tr>\n",
              "    <tr>\n",
              "      <th>1</th>\n",
              "      <td>1</td>\n",
              "      <td>1</td>\n",
              "      <td>01526.png</td>\n",
              "      <td>[Dut the qoney iT1 a hag. nowl that will he SO.15</td>\n",
              "      <td>neutral</td>\n",
              "    </tr>\n",
              "    <tr>\n",
              "      <th>2</th>\n",
              "      <td>2</td>\n",
              "      <td>2</td>\n",
              "      <td>01476.png</td>\n",
              "      <td>II confitleut IIL IIIV OwI skit</td>\n",
              "      <td>neutral</td>\n",
              "    </tr>\n",
              "    <tr>\n",
              "      <th>3</th>\n",
              "      <td>3</td>\n",
              "      <td>3</td>\n",
              "      <td>01469.png</td>\n",
              "      <td>wliem voL [UIIC h thne I1LuISLr kucl s0 hard t...</td>\n",
              "      <td>neutral</td>\n",
              "    </tr>\n",
              "    <tr>\n",
              "      <th>4</th>\n",
              "      <td>4</td>\n",
              "      <td>4</td>\n",
              "      <td>01735.png</td>\n",
              "      <td>Spending time with Dad</td>\n",
              "      <td>neutral</td>\n",
              "    </tr>\n",
              "  </tbody>\n",
              "</table>\n",
              "</div>"
            ],
            "text/plain": [
              "   Unnamed: 0  ...  Classification\n",
              "0           0  ...         neutral\n",
              "1           1  ...         neutral\n",
              "2           2  ...         neutral\n",
              "3           3  ...         neutral\n",
              "4           4  ...         neutral\n",
              "\n",
              "[5 rows x 5 columns]"
            ]
          },
          "metadata": {},
          "execution_count": 41
        }
      ]
    },
    {
      "cell_type": "code",
      "metadata": {
        "colab": {
          "base_uri": "https://localhost:8080/",
          "height": 206
        },
        "id": "olJQ1-k1G5hl",
        "outputId": "794187ef-447f-4e41-ae51-55097357c8fd"
      },
      "source": [
        "df_cnn.head()"
      ],
      "execution_count": 42,
      "outputs": [
        {
          "output_type": "execute_result",
          "data": {
            "text/html": [
              "<div>\n",
              "<style scoped>\n",
              "    .dataframe tbody tr th:only-of-type {\n",
              "        vertical-align: middle;\n",
              "    }\n",
              "\n",
              "    .dataframe tbody tr th {\n",
              "        vertical-align: top;\n",
              "    }\n",
              "\n",
              "    .dataframe thead th {\n",
              "        text-align: right;\n",
              "    }\n",
              "</style>\n",
              "<table border=\"1\" class=\"dataframe\">\n",
              "  <thead>\n",
              "    <tr style=\"text-align: right;\">\n",
              "      <th></th>\n",
              "      <th>1</th>\n",
              "      <th>angry</th>\n",
              "    </tr>\n",
              "  </thead>\n",
              "  <tbody>\n",
              "    <tr>\n",
              "      <th>0</th>\n",
              "      <td>2</td>\n",
              "      <td>NaN</td>\n",
              "    </tr>\n",
              "    <tr>\n",
              "      <th>1</th>\n",
              "      <td>3</td>\n",
              "      <td>NaN</td>\n",
              "    </tr>\n",
              "    <tr>\n",
              "      <th>2</th>\n",
              "      <td>4</td>\n",
              "      <td>happy</td>\n",
              "    </tr>\n",
              "    <tr>\n",
              "      <th>3</th>\n",
              "      <td>5</td>\n",
              "      <td>NaN</td>\n",
              "    </tr>\n",
              "    <tr>\n",
              "      <th>4</th>\n",
              "      <td>6</td>\n",
              "      <td>neutral</td>\n",
              "    </tr>\n",
              "  </tbody>\n",
              "</table>\n",
              "</div>"
            ],
            "text/plain": [
              "   1    angry\n",
              "0  2      NaN\n",
              "1  3      NaN\n",
              "2  4    happy\n",
              "3  5      NaN\n",
              "4  6  neutral"
            ]
          },
          "metadata": {},
          "execution_count": 42
        }
      ]
    },
    {
      "cell_type": "code",
      "metadata": {
        "colab": {
          "base_uri": "https://localhost:8080/"
        },
        "id": "Hi68PxruJSDt",
        "outputId": "afc5d5d4-9edf-400e-f3d4-e241c5398e5f"
      },
      "source": [
        "print(df_cnn)"
      ],
      "execution_count": 43,
      "outputs": [
        {
          "output_type": "stream",
          "name": "stdout",
          "text": [
            "     1    angry\n",
            "0    2      NaN\n",
            "1    3      NaN\n",
            "2    4    happy\n",
            "3    5      NaN\n",
            "4    6  neutral\n",
            "5    7      NaN\n",
            "6    8      NaN\n",
            "7    9      NaN\n",
            "8   10      NaN\n",
            "9   11      NaN\n",
            "10  12    happy\n",
            "11  13    happy\n",
            "12  14      NaN\n",
            "13  16      NaN\n",
            "14  17      NaN\n",
            "15  18      NaN\n",
            "16  19      NaN\n",
            "17  20      NaN\n",
            "18  21      NaN\n",
            "19  22      NaN\n"
          ]
        }
      ]
    },
    {
      "cell_type": "code",
      "metadata": {
        "id": "Dm3wsv7BK_rh"
      },
      "source": [
        "df_cnn_list = ['angry', 'NaN', 'NaN', 'happy', 'NaN', 'neutral', 'NaN', 'NaN', 'NaN', 'NaN', 'NaN', 'happy', 'happy', 'NaN', 'NaN', 'NaN', 'NaN', 'NaN', 'NaN', 'NaN', 'NaN', 'NaN']"
      ],
      "execution_count": 44,
      "outputs": []
    },
    {
      "cell_type": "code",
      "metadata": {
        "colab": {
          "base_uri": "https://localhost:8080/"
        },
        "id": "NGyllDVlWsCp",
        "outputId": "cc4b032d-ebd8-489a-fb08-e1c70ad68d8c"
      },
      "source": [
        "print(len(df_cnn_list))"
      ],
      "execution_count": 45,
      "outputs": [
        {
          "output_type": "stream",
          "name": "stdout",
          "text": [
            "22\n"
          ]
        }
      ]
    },
    {
      "cell_type": "code",
      "metadata": {
        "colab": {
          "base_uri": "https://localhost:8080/"
        },
        "id": "0pKda7iMNhos",
        "outputId": "96cf39c1-2d2b-48bc-cef9-f47bce07f4b7"
      },
      "source": [
        "print(df_ocr)"
      ],
      "execution_count": 46,
      "outputs": [
        {
          "output_type": "stream",
          "name": "stdout",
          "text": [
            "    Unnamed: 0   Memes                                      Transcription\n",
            "0            0   1.png        vou CaI'he racist ifthere iS H1O other race\n",
            "1            1   2.png  wlien vour tlehit carullecline at the ahortion...\n",
            "2            2   3.png  ladies! if your manIs offended by thishe is a ...\n",
            "3            3   4.png  father aud daughter bondingtime is the hestIik...\n",
            "4            4   5.png                   a smile iS worth athousand words\n",
            "5            5   6.png                        dlo i have t0 goto sqace?pp\n",
            "6            6   7.png             when vour world CUp) tealscores a goal\n",
            "7            7   8.png  1'I1 not sick; i'I1 twistedsick makes it sound...\n",
            "8            8   9.png  when the school shooteraccidleutly shoots tlie...\n",
            "9            9  10.png  wliem voL [UIIC h thne I1LuISLr kucl s0 hard t...\n",
            "10          10  11.png  last time MuSlimsimvaded euronevlau stuck pole...\n",
            "11          11  12.png                    II confitleut IIL IIIV OwI skit\n",
            "12          12  13.png  [Dut the qoney iT1 a hag. nowl that will he SO.15\n",
            "13          13  14.png  hnow roaches hewhiem vou shul ol Lhe kulchen L...\n",
            "14          14  15.png                             Hitler was an evil man\n",
            "15          15  16.png  tlo you think a terroristhas or coult iufiltra...\n",
            "16          16  17.png  when VOu can'( dlecicle t0 pre heat the ovemor...\n",
            "17          17  18.png                                        sea monkeys\n",
            "18          18  19.png       this would heracistIf hlack people couldread\n",
            "19          19  20.png                         went On a dlateIling dlate\n",
            "20          20  21.png                             Spending time with Dad\n",
            "21          21  22.png                                she iS a fastrumner\n"
          ]
        }
      ]
    },
    {
      "cell_type": "code",
      "metadata": {
        "colab": {
          "base_uri": "https://localhost:8080/",
          "height": 739
        },
        "id": "B8UzfSpKNstJ",
        "outputId": "a0e5c52e-50a8-479f-e9d1-b16cd198e056"
      },
      "source": [
        "df_nlp"
      ],
      "execution_count": 47,
      "outputs": [
        {
          "output_type": "execute_result",
          "data": {
            "text/html": [
              "<div>\n",
              "<style scoped>\n",
              "    .dataframe tbody tr th:only-of-type {\n",
              "        vertical-align: middle;\n",
              "    }\n",
              "\n",
              "    .dataframe tbody tr th {\n",
              "        vertical-align: top;\n",
              "    }\n",
              "\n",
              "    .dataframe thead th {\n",
              "        text-align: right;\n",
              "    }\n",
              "</style>\n",
              "<table border=\"1\" class=\"dataframe\">\n",
              "  <thead>\n",
              "    <tr style=\"text-align: right;\">\n",
              "      <th></th>\n",
              "      <th>Unnamed: 0</th>\n",
              "      <th>Unnamed: 0.1</th>\n",
              "      <th>Memes</th>\n",
              "      <th>Transcription</th>\n",
              "      <th>Classification</th>\n",
              "    </tr>\n",
              "  </thead>\n",
              "  <tbody>\n",
              "    <tr>\n",
              "      <th>0</th>\n",
              "      <td>0</td>\n",
              "      <td>0</td>\n",
              "      <td>01247.png</td>\n",
              "      <td>vou CaI'he racist ifthere iS H1O other race</td>\n",
              "      <td>neutral</td>\n",
              "    </tr>\n",
              "    <tr>\n",
              "      <th>1</th>\n",
              "      <td>1</td>\n",
              "      <td>1</td>\n",
              "      <td>01526.png</td>\n",
              "      <td>[Dut the qoney iT1 a hag. nowl that will he SO.15</td>\n",
              "      <td>neutral</td>\n",
              "    </tr>\n",
              "    <tr>\n",
              "      <th>2</th>\n",
              "      <td>2</td>\n",
              "      <td>2</td>\n",
              "      <td>01476.png</td>\n",
              "      <td>II confitleut IIL IIIV OwI skit</td>\n",
              "      <td>neutral</td>\n",
              "    </tr>\n",
              "    <tr>\n",
              "      <th>3</th>\n",
              "      <td>3</td>\n",
              "      <td>3</td>\n",
              "      <td>01469.png</td>\n",
              "      <td>wliem voL [UIIC h thne I1LuISLr kucl s0 hard t...</td>\n",
              "      <td>neutral</td>\n",
              "    </tr>\n",
              "    <tr>\n",
              "      <th>4</th>\n",
              "      <td>4</td>\n",
              "      <td>4</td>\n",
              "      <td>01735.png</td>\n",
              "      <td>Spending time with Dad</td>\n",
              "      <td>neutral</td>\n",
              "    </tr>\n",
              "    <tr>\n",
              "      <th>5</th>\n",
              "      <td>5</td>\n",
              "      <td>5</td>\n",
              "      <td>01578.png</td>\n",
              "      <td>sea monkeys</td>\n",
              "      <td>neutral</td>\n",
              "    </tr>\n",
              "    <tr>\n",
              "      <th>6</th>\n",
              "      <td>6</td>\n",
              "      <td>6</td>\n",
              "      <td>01674.png</td>\n",
              "      <td>went On a dlateIling dlate</td>\n",
              "      <td>neutral</td>\n",
              "    </tr>\n",
              "    <tr>\n",
              "      <th>7</th>\n",
              "      <td>7</td>\n",
              "      <td>7</td>\n",
              "      <td>01756.png</td>\n",
              "      <td>she iS a fastrumner</td>\n",
              "      <td>neutral</td>\n",
              "    </tr>\n",
              "    <tr>\n",
              "      <th>8</th>\n",
              "      <td>8</td>\n",
              "      <td>8</td>\n",
              "      <td>01569.png</td>\n",
              "      <td>when VOu can'( dlecicle t0 pre heat the ovemor...</td>\n",
              "      <td>neutral</td>\n",
              "    </tr>\n",
              "    <tr>\n",
              "      <th>9</th>\n",
              "      <td>9</td>\n",
              "      <td>9</td>\n",
              "      <td>01568.png</td>\n",
              "      <td>tlo you think a terroristhas or coult iufiltra...</td>\n",
              "      <td>neutral</td>\n",
              "    </tr>\n",
              "    <tr>\n",
              "      <th>10</th>\n",
              "      <td>10</td>\n",
              "      <td>10</td>\n",
              "      <td>01562.png</td>\n",
              "      <td>hnow roaches hewhiem vou shul ol Lhe kulchen L...</td>\n",
              "      <td>ofenssive-hate</td>\n",
              "    </tr>\n",
              "    <tr>\n",
              "      <th>11</th>\n",
              "      <td>11</td>\n",
              "      <td>11</td>\n",
              "      <td>01642.png</td>\n",
              "      <td>this would heracistIf hlack people couldread</td>\n",
              "      <td>neutral</td>\n",
              "    </tr>\n",
              "    <tr>\n",
              "      <th>12</th>\n",
              "      <td>12</td>\n",
              "      <td>12</td>\n",
              "      <td>01567.png</td>\n",
              "      <td>Hitler was an evil man</td>\n",
              "      <td>neutral</td>\n",
              "    </tr>\n",
              "    <tr>\n",
              "      <th>13</th>\n",
              "      <td>13</td>\n",
              "      <td>13</td>\n",
              "      <td>01285.png</td>\n",
              "      <td>dlo i have t0 goto sqace?pp</td>\n",
              "      <td>neutral</td>\n",
              "    </tr>\n",
              "    <tr>\n",
              "      <th>14</th>\n",
              "      <td>14</td>\n",
              "      <td>14</td>\n",
              "      <td>01475.png</td>\n",
              "      <td>last time MuSlimsimvaded euronevlau stuck pole...</td>\n",
              "      <td>neutral</td>\n",
              "    </tr>\n",
              "    <tr>\n",
              "      <th>15</th>\n",
              "      <td>15</td>\n",
              "      <td>15</td>\n",
              "      <td>01327.png</td>\n",
              "      <td>1'I1 not sick; i'I1 twistedsick makes it sound...</td>\n",
              "      <td>neutral</td>\n",
              "    </tr>\n",
              "    <tr>\n",
              "      <th>16</th>\n",
              "      <td>16</td>\n",
              "      <td>16</td>\n",
              "      <td>01256.png</td>\n",
              "      <td>wlien vour tlehit carullecline at the ahortion...</td>\n",
              "      <td>neutral</td>\n",
              "    </tr>\n",
              "    <tr>\n",
              "      <th>17</th>\n",
              "      <td>17</td>\n",
              "      <td>17</td>\n",
              "      <td>01258.png</td>\n",
              "      <td>ladies! if your manIs offended by thishe is a ...</td>\n",
              "      <td>ofenssive-hate</td>\n",
              "    </tr>\n",
              "    <tr>\n",
              "      <th>18</th>\n",
              "      <td>18</td>\n",
              "      <td>18</td>\n",
              "      <td>01276.png</td>\n",
              "      <td>a smile iS worth athousand words</td>\n",
              "      <td>neutral</td>\n",
              "    </tr>\n",
              "    <tr>\n",
              "      <th>19</th>\n",
              "      <td>19</td>\n",
              "      <td>19</td>\n",
              "      <td>01325.png</td>\n",
              "      <td>when vour world CUp) tealscores a goal</td>\n",
              "      <td>neutral</td>\n",
              "    </tr>\n",
              "    <tr>\n",
              "      <th>20</th>\n",
              "      <td>20</td>\n",
              "      <td>20</td>\n",
              "      <td>01436.png</td>\n",
              "      <td>when the school shooteraccidleutly shoots tlie...</td>\n",
              "      <td>neutral</td>\n",
              "    </tr>\n",
              "    <tr>\n",
              "      <th>21</th>\n",
              "      <td>21</td>\n",
              "      <td>21</td>\n",
              "      <td>01268.png</td>\n",
              "      <td>father aud daughter bondingtime is the hestIik...</td>\n",
              "      <td>neutral</td>\n",
              "    </tr>\n",
              "  </tbody>\n",
              "</table>\n",
              "</div>"
            ],
            "text/plain": [
              "    Unnamed: 0  ...  Classification\n",
              "0            0  ...         neutral\n",
              "1            1  ...         neutral\n",
              "2            2  ...         neutral\n",
              "3            3  ...         neutral\n",
              "4            4  ...         neutral\n",
              "5            5  ...         neutral\n",
              "6            6  ...         neutral\n",
              "7            7  ...         neutral\n",
              "8            8  ...         neutral\n",
              "9            9  ...         neutral\n",
              "10          10  ...  ofenssive-hate\n",
              "11          11  ...         neutral\n",
              "12          12  ...         neutral\n",
              "13          13  ...         neutral\n",
              "14          14  ...         neutral\n",
              "15          15  ...         neutral\n",
              "16          16  ...         neutral\n",
              "17          17  ...  ofenssive-hate\n",
              "18          18  ...         neutral\n",
              "19          19  ...         neutral\n",
              "20          20  ...         neutral\n",
              "21          21  ...         neutral\n",
              "\n",
              "[22 rows x 5 columns]"
            ]
          },
          "metadata": {},
          "execution_count": 47
        }
      ]
    },
    {
      "cell_type": "code",
      "metadata": {
        "id": "IUlnBHyXMrdG"
      },
      "source": [
        "df_nlp['emotion'] = df_cnn_list"
      ],
      "execution_count": 48,
      "outputs": []
    },
    {
      "cell_type": "code",
      "metadata": {
        "colab": {
          "base_uri": "https://localhost:8080/",
          "height": 206
        },
        "id": "Ybecs_xautvx",
        "outputId": "7fbbe8f4-1d96-4d9a-ede4-fb975721f5b0"
      },
      "source": [
        "df_nlp.head()"
      ],
      "execution_count": 49,
      "outputs": [
        {
          "output_type": "execute_result",
          "data": {
            "text/html": [
              "<div>\n",
              "<style scoped>\n",
              "    .dataframe tbody tr th:only-of-type {\n",
              "        vertical-align: middle;\n",
              "    }\n",
              "\n",
              "    .dataframe tbody tr th {\n",
              "        vertical-align: top;\n",
              "    }\n",
              "\n",
              "    .dataframe thead th {\n",
              "        text-align: right;\n",
              "    }\n",
              "</style>\n",
              "<table border=\"1\" class=\"dataframe\">\n",
              "  <thead>\n",
              "    <tr style=\"text-align: right;\">\n",
              "      <th></th>\n",
              "      <th>Unnamed: 0</th>\n",
              "      <th>Unnamed: 0.1</th>\n",
              "      <th>Memes</th>\n",
              "      <th>Transcription</th>\n",
              "      <th>Classification</th>\n",
              "      <th>emotion</th>\n",
              "    </tr>\n",
              "  </thead>\n",
              "  <tbody>\n",
              "    <tr>\n",
              "      <th>0</th>\n",
              "      <td>0</td>\n",
              "      <td>0</td>\n",
              "      <td>01247.png</td>\n",
              "      <td>vou CaI'he racist ifthere iS H1O other race</td>\n",
              "      <td>neutral</td>\n",
              "      <td>angry</td>\n",
              "    </tr>\n",
              "    <tr>\n",
              "      <th>1</th>\n",
              "      <td>1</td>\n",
              "      <td>1</td>\n",
              "      <td>01526.png</td>\n",
              "      <td>[Dut the qoney iT1 a hag. nowl that will he SO.15</td>\n",
              "      <td>neutral</td>\n",
              "      <td>NaN</td>\n",
              "    </tr>\n",
              "    <tr>\n",
              "      <th>2</th>\n",
              "      <td>2</td>\n",
              "      <td>2</td>\n",
              "      <td>01476.png</td>\n",
              "      <td>II confitleut IIL IIIV OwI skit</td>\n",
              "      <td>neutral</td>\n",
              "      <td>NaN</td>\n",
              "    </tr>\n",
              "    <tr>\n",
              "      <th>3</th>\n",
              "      <td>3</td>\n",
              "      <td>3</td>\n",
              "      <td>01469.png</td>\n",
              "      <td>wliem voL [UIIC h thne I1LuISLr kucl s0 hard t...</td>\n",
              "      <td>neutral</td>\n",
              "      <td>happy</td>\n",
              "    </tr>\n",
              "    <tr>\n",
              "      <th>4</th>\n",
              "      <td>4</td>\n",
              "      <td>4</td>\n",
              "      <td>01735.png</td>\n",
              "      <td>Spending time with Dad</td>\n",
              "      <td>neutral</td>\n",
              "      <td>NaN</td>\n",
              "    </tr>\n",
              "  </tbody>\n",
              "</table>\n",
              "</div>"
            ],
            "text/plain": [
              "   Unnamed: 0  Unnamed: 0.1  ... Classification emotion\n",
              "0           0             0  ...        neutral   angry\n",
              "1           1             1  ...        neutral     NaN\n",
              "2           2             2  ...        neutral     NaN\n",
              "3           3             3  ...        neutral   happy\n",
              "4           4             4  ...        neutral     NaN\n",
              "\n",
              "[5 rows x 6 columns]"
            ]
          },
          "metadata": {},
          "execution_count": 49
        }
      ]
    },
    {
      "cell_type": "code",
      "metadata": {
        "id": "qtVL8dloMmtj"
      },
      "source": [
        "df_curated = df_nlp.loc[:, ~df_nlp.columns.str.contains('^Unnamed')]"
      ],
      "execution_count": 50,
      "outputs": []
    },
    {
      "cell_type": "code",
      "metadata": {
        "colab": {
          "base_uri": "https://localhost:8080/",
          "height": 739
        },
        "id": "J1xqAvpVxf8f",
        "outputId": "ab39a4fd-96c7-46ae-d684-6aa039500044"
      },
      "source": [
        "df_curated"
      ],
      "execution_count": 51,
      "outputs": [
        {
          "output_type": "execute_result",
          "data": {
            "text/html": [
              "<div>\n",
              "<style scoped>\n",
              "    .dataframe tbody tr th:only-of-type {\n",
              "        vertical-align: middle;\n",
              "    }\n",
              "\n",
              "    .dataframe tbody tr th {\n",
              "        vertical-align: top;\n",
              "    }\n",
              "\n",
              "    .dataframe thead th {\n",
              "        text-align: right;\n",
              "    }\n",
              "</style>\n",
              "<table border=\"1\" class=\"dataframe\">\n",
              "  <thead>\n",
              "    <tr style=\"text-align: right;\">\n",
              "      <th></th>\n",
              "      <th>Memes</th>\n",
              "      <th>Transcription</th>\n",
              "      <th>Classification</th>\n",
              "      <th>emotion</th>\n",
              "    </tr>\n",
              "  </thead>\n",
              "  <tbody>\n",
              "    <tr>\n",
              "      <th>0</th>\n",
              "      <td>01247.png</td>\n",
              "      <td>vou CaI'he racist ifthere iS H1O other race</td>\n",
              "      <td>neutral</td>\n",
              "      <td>angry</td>\n",
              "    </tr>\n",
              "    <tr>\n",
              "      <th>1</th>\n",
              "      <td>01526.png</td>\n",
              "      <td>[Dut the qoney iT1 a hag. nowl that will he SO.15</td>\n",
              "      <td>neutral</td>\n",
              "      <td>NaN</td>\n",
              "    </tr>\n",
              "    <tr>\n",
              "      <th>2</th>\n",
              "      <td>01476.png</td>\n",
              "      <td>II confitleut IIL IIIV OwI skit</td>\n",
              "      <td>neutral</td>\n",
              "      <td>NaN</td>\n",
              "    </tr>\n",
              "    <tr>\n",
              "      <th>3</th>\n",
              "      <td>01469.png</td>\n",
              "      <td>wliem voL [UIIC h thne I1LuISLr kucl s0 hard t...</td>\n",
              "      <td>neutral</td>\n",
              "      <td>happy</td>\n",
              "    </tr>\n",
              "    <tr>\n",
              "      <th>4</th>\n",
              "      <td>01735.png</td>\n",
              "      <td>Spending time with Dad</td>\n",
              "      <td>neutral</td>\n",
              "      <td>NaN</td>\n",
              "    </tr>\n",
              "    <tr>\n",
              "      <th>5</th>\n",
              "      <td>01578.png</td>\n",
              "      <td>sea monkeys</td>\n",
              "      <td>neutral</td>\n",
              "      <td>neutral</td>\n",
              "    </tr>\n",
              "    <tr>\n",
              "      <th>6</th>\n",
              "      <td>01674.png</td>\n",
              "      <td>went On a dlateIling dlate</td>\n",
              "      <td>neutral</td>\n",
              "      <td>NaN</td>\n",
              "    </tr>\n",
              "    <tr>\n",
              "      <th>7</th>\n",
              "      <td>01756.png</td>\n",
              "      <td>she iS a fastrumner</td>\n",
              "      <td>neutral</td>\n",
              "      <td>NaN</td>\n",
              "    </tr>\n",
              "    <tr>\n",
              "      <th>8</th>\n",
              "      <td>01569.png</td>\n",
              "      <td>when VOu can'( dlecicle t0 pre heat the ovemor...</td>\n",
              "      <td>neutral</td>\n",
              "      <td>NaN</td>\n",
              "    </tr>\n",
              "    <tr>\n",
              "      <th>9</th>\n",
              "      <td>01568.png</td>\n",
              "      <td>tlo you think a terroristhas or coult iufiltra...</td>\n",
              "      <td>neutral</td>\n",
              "      <td>NaN</td>\n",
              "    </tr>\n",
              "    <tr>\n",
              "      <th>10</th>\n",
              "      <td>01562.png</td>\n",
              "      <td>hnow roaches hewhiem vou shul ol Lhe kulchen L...</td>\n",
              "      <td>ofenssive-hate</td>\n",
              "      <td>NaN</td>\n",
              "    </tr>\n",
              "    <tr>\n",
              "      <th>11</th>\n",
              "      <td>01642.png</td>\n",
              "      <td>this would heracistIf hlack people couldread</td>\n",
              "      <td>neutral</td>\n",
              "      <td>happy</td>\n",
              "    </tr>\n",
              "    <tr>\n",
              "      <th>12</th>\n",
              "      <td>01567.png</td>\n",
              "      <td>Hitler was an evil man</td>\n",
              "      <td>neutral</td>\n",
              "      <td>happy</td>\n",
              "    </tr>\n",
              "    <tr>\n",
              "      <th>13</th>\n",
              "      <td>01285.png</td>\n",
              "      <td>dlo i have t0 goto sqace?pp</td>\n",
              "      <td>neutral</td>\n",
              "      <td>NaN</td>\n",
              "    </tr>\n",
              "    <tr>\n",
              "      <th>14</th>\n",
              "      <td>01475.png</td>\n",
              "      <td>last time MuSlimsimvaded euronevlau stuck pole...</td>\n",
              "      <td>neutral</td>\n",
              "      <td>NaN</td>\n",
              "    </tr>\n",
              "    <tr>\n",
              "      <th>15</th>\n",
              "      <td>01327.png</td>\n",
              "      <td>1'I1 not sick; i'I1 twistedsick makes it sound...</td>\n",
              "      <td>neutral</td>\n",
              "      <td>NaN</td>\n",
              "    </tr>\n",
              "    <tr>\n",
              "      <th>16</th>\n",
              "      <td>01256.png</td>\n",
              "      <td>wlien vour tlehit carullecline at the ahortion...</td>\n",
              "      <td>neutral</td>\n",
              "      <td>NaN</td>\n",
              "    </tr>\n",
              "    <tr>\n",
              "      <th>17</th>\n",
              "      <td>01258.png</td>\n",
              "      <td>ladies! if your manIs offended by thishe is a ...</td>\n",
              "      <td>ofenssive-hate</td>\n",
              "      <td>NaN</td>\n",
              "    </tr>\n",
              "    <tr>\n",
              "      <th>18</th>\n",
              "      <td>01276.png</td>\n",
              "      <td>a smile iS worth athousand words</td>\n",
              "      <td>neutral</td>\n",
              "      <td>NaN</td>\n",
              "    </tr>\n",
              "    <tr>\n",
              "      <th>19</th>\n",
              "      <td>01325.png</td>\n",
              "      <td>when vour world CUp) tealscores a goal</td>\n",
              "      <td>neutral</td>\n",
              "      <td>NaN</td>\n",
              "    </tr>\n",
              "    <tr>\n",
              "      <th>20</th>\n",
              "      <td>01436.png</td>\n",
              "      <td>when the school shooteraccidleutly shoots tlie...</td>\n",
              "      <td>neutral</td>\n",
              "      <td>NaN</td>\n",
              "    </tr>\n",
              "    <tr>\n",
              "      <th>21</th>\n",
              "      <td>01268.png</td>\n",
              "      <td>father aud daughter bondingtime is the hestIik...</td>\n",
              "      <td>neutral</td>\n",
              "      <td>NaN</td>\n",
              "    </tr>\n",
              "  </tbody>\n",
              "</table>\n",
              "</div>"
            ],
            "text/plain": [
              "        Memes  ...  emotion\n",
              "0   01247.png  ...    angry\n",
              "1   01526.png  ...      NaN\n",
              "2   01476.png  ...      NaN\n",
              "3   01469.png  ...    happy\n",
              "4   01735.png  ...      NaN\n",
              "5   01578.png  ...  neutral\n",
              "6   01674.png  ...      NaN\n",
              "7   01756.png  ...      NaN\n",
              "8   01569.png  ...      NaN\n",
              "9   01568.png  ...      NaN\n",
              "10  01562.png  ...      NaN\n",
              "11  01642.png  ...    happy\n",
              "12  01567.png  ...    happy\n",
              "13  01285.png  ...      NaN\n",
              "14  01475.png  ...      NaN\n",
              "15  01327.png  ...      NaN\n",
              "16  01256.png  ...      NaN\n",
              "17  01258.png  ...      NaN\n",
              "18  01276.png  ...      NaN\n",
              "19  01325.png  ...      NaN\n",
              "20  01436.png  ...      NaN\n",
              "21  01268.png  ...      NaN\n",
              "\n",
              "[22 rows x 4 columns]"
            ]
          },
          "metadata": {},
          "execution_count": 51
        }
      ]
    },
    {
      "cell_type": "markdown",
      "metadata": {
        "id": "jge2UqhL2Ayz"
      },
      "source": [
        "Reinterpretamos los NaN como neutrales"
      ]
    },
    {
      "cell_type": "code",
      "metadata": {
        "colab": {
          "base_uri": "https://localhost:8080/"
        },
        "id": "njMwaBmlz5pW",
        "outputId": "734ba7ba-6a21-4034-f6c0-50a0ea552e7a"
      },
      "source": [
        "s = df_curated['emotion']\n",
        "s.replace('NaN', 'neutral')"
      ],
      "execution_count": 52,
      "outputs": [
        {
          "output_type": "execute_result",
          "data": {
            "text/plain": [
              "0       angry\n",
              "1     neutral\n",
              "2     neutral\n",
              "3       happy\n",
              "4     neutral\n",
              "5     neutral\n",
              "6     neutral\n",
              "7     neutral\n",
              "8     neutral\n",
              "9     neutral\n",
              "10    neutral\n",
              "11      happy\n",
              "12      happy\n",
              "13    neutral\n",
              "14    neutral\n",
              "15    neutral\n",
              "16    neutral\n",
              "17    neutral\n",
              "18    neutral\n",
              "19    neutral\n",
              "20    neutral\n",
              "21    neutral\n",
              "Name: emotion, dtype: object"
            ]
          },
          "metadata": {},
          "execution_count": 52
        }
      ]
    },
    {
      "cell_type": "code",
      "metadata": {
        "id": "ZZonFnXj3B88"
      },
      "source": [
        "df_curated = df_curated.replace('NaN', 'neutral')"
      ],
      "execution_count": 53,
      "outputs": []
    },
    {
      "cell_type": "code",
      "metadata": {
        "id": "7ES1tqrE4jjl"
      },
      "source": [
        "df_gt = ['offensive-hate', 'neutral', 'neutral', 'offensive-hate', 'neutral', 'offensive-hate', 'neutral', 'neutral', 'neutral', 'offensive-hate', 'offensive-hate', 'offensive-hate', 'neutral', 'neutral', 'offensive-hate', 'offensive-hate', 'offensive-hate', 'offensive-hate', 'neutral', 'neutral', 'offensive-hate', 'neutral']"
      ],
      "execution_count": 54,
      "outputs": []
    },
    {
      "cell_type": "code",
      "metadata": {
        "id": "rwlsrmlBp417"
      },
      "source": [
        "df_gt_emotion = ['angry', 'happy', 'happy', 'neutral', 'happy', 'neutral', 'neutral', 'neutral', 'happy', 'neutral', 'neutral', 'happy', 'happy', 'neutral', 'neutral', 'neutral', 'neutral', 'neutral', 'happy', 'happy', 'neutral', 'happy']"
      ],
      "execution_count": 55,
      "outputs": []
    },
    {
      "cell_type": "code",
      "metadata": {
        "colab": {
          "base_uri": "https://localhost:8080/"
        },
        "id": "N1en6X32u5BG",
        "outputId": "5d502110-2873-4ddf-b009-792e254f8905"
      },
      "source": [
        "print(len(df_gt))"
      ],
      "execution_count": 56,
      "outputs": [
        {
          "output_type": "stream",
          "name": "stdout",
          "text": [
            "22\n"
          ]
        }
      ]
    },
    {
      "cell_type": "code",
      "metadata": {
        "colab": {
          "base_uri": "https://localhost:8080/"
        },
        "id": "OfpvQ3cOsEuX",
        "outputId": "c377f941-dcc2-4e2f-cb11-d1c0e61ac561"
      },
      "source": [
        "print(len(df_gt_emotion))"
      ],
      "execution_count": 57,
      "outputs": [
        {
          "output_type": "stream",
          "name": "stdout",
          "text": [
            "22\n"
          ]
        }
      ]
    },
    {
      "cell_type": "code",
      "metadata": {
        "id": "p74FznkKBTY-"
      },
      "source": [
        "df_curated['gt'] = df_gt"
      ],
      "execution_count": 58,
      "outputs": []
    },
    {
      "cell_type": "code",
      "metadata": {
        "id": "8jxjxKS4sNOc"
      },
      "source": [
        "df_curated['gt_emotion'] = df_gt_emotion"
      ],
      "execution_count": 59,
      "outputs": []
    },
    {
      "cell_type": "code",
      "metadata": {
        "colab": {
          "base_uri": "https://localhost:8080/",
          "height": 739
        },
        "id": "oRi4oDa6BzsE",
        "outputId": "c054cc52-e5a8-4830-9209-adb1459f35c4"
      },
      "source": [
        "df_curated"
      ],
      "execution_count": 60,
      "outputs": [
        {
          "output_type": "execute_result",
          "data": {
            "text/html": [
              "<div>\n",
              "<style scoped>\n",
              "    .dataframe tbody tr th:only-of-type {\n",
              "        vertical-align: middle;\n",
              "    }\n",
              "\n",
              "    .dataframe tbody tr th {\n",
              "        vertical-align: top;\n",
              "    }\n",
              "\n",
              "    .dataframe thead th {\n",
              "        text-align: right;\n",
              "    }\n",
              "</style>\n",
              "<table border=\"1\" class=\"dataframe\">\n",
              "  <thead>\n",
              "    <tr style=\"text-align: right;\">\n",
              "      <th></th>\n",
              "      <th>Memes</th>\n",
              "      <th>Transcription</th>\n",
              "      <th>Classification</th>\n",
              "      <th>emotion</th>\n",
              "      <th>gt</th>\n",
              "      <th>gt_emotion</th>\n",
              "    </tr>\n",
              "  </thead>\n",
              "  <tbody>\n",
              "    <tr>\n",
              "      <th>0</th>\n",
              "      <td>01247.png</td>\n",
              "      <td>vou CaI'he racist ifthere iS H1O other race</td>\n",
              "      <td>neutral</td>\n",
              "      <td>angry</td>\n",
              "      <td>offensive-hate</td>\n",
              "      <td>angry</td>\n",
              "    </tr>\n",
              "    <tr>\n",
              "      <th>1</th>\n",
              "      <td>01526.png</td>\n",
              "      <td>[Dut the qoney iT1 a hag. nowl that will he SO.15</td>\n",
              "      <td>neutral</td>\n",
              "      <td>neutral</td>\n",
              "      <td>neutral</td>\n",
              "      <td>happy</td>\n",
              "    </tr>\n",
              "    <tr>\n",
              "      <th>2</th>\n",
              "      <td>01476.png</td>\n",
              "      <td>II confitleut IIL IIIV OwI skit</td>\n",
              "      <td>neutral</td>\n",
              "      <td>neutral</td>\n",
              "      <td>neutral</td>\n",
              "      <td>happy</td>\n",
              "    </tr>\n",
              "    <tr>\n",
              "      <th>3</th>\n",
              "      <td>01469.png</td>\n",
              "      <td>wliem voL [UIIC h thne I1LuISLr kucl s0 hard t...</td>\n",
              "      <td>neutral</td>\n",
              "      <td>happy</td>\n",
              "      <td>offensive-hate</td>\n",
              "      <td>neutral</td>\n",
              "    </tr>\n",
              "    <tr>\n",
              "      <th>4</th>\n",
              "      <td>01735.png</td>\n",
              "      <td>Spending time with Dad</td>\n",
              "      <td>neutral</td>\n",
              "      <td>neutral</td>\n",
              "      <td>neutral</td>\n",
              "      <td>happy</td>\n",
              "    </tr>\n",
              "    <tr>\n",
              "      <th>5</th>\n",
              "      <td>01578.png</td>\n",
              "      <td>sea monkeys</td>\n",
              "      <td>neutral</td>\n",
              "      <td>neutral</td>\n",
              "      <td>offensive-hate</td>\n",
              "      <td>neutral</td>\n",
              "    </tr>\n",
              "    <tr>\n",
              "      <th>6</th>\n",
              "      <td>01674.png</td>\n",
              "      <td>went On a dlateIling dlate</td>\n",
              "      <td>neutral</td>\n",
              "      <td>neutral</td>\n",
              "      <td>neutral</td>\n",
              "      <td>neutral</td>\n",
              "    </tr>\n",
              "    <tr>\n",
              "      <th>7</th>\n",
              "      <td>01756.png</td>\n",
              "      <td>she iS a fastrumner</td>\n",
              "      <td>neutral</td>\n",
              "      <td>neutral</td>\n",
              "      <td>neutral</td>\n",
              "      <td>neutral</td>\n",
              "    </tr>\n",
              "    <tr>\n",
              "      <th>8</th>\n",
              "      <td>01569.png</td>\n",
              "      <td>when VOu can'( dlecicle t0 pre heat the ovemor...</td>\n",
              "      <td>neutral</td>\n",
              "      <td>neutral</td>\n",
              "      <td>neutral</td>\n",
              "      <td>happy</td>\n",
              "    </tr>\n",
              "    <tr>\n",
              "      <th>9</th>\n",
              "      <td>01568.png</td>\n",
              "      <td>tlo you think a terroristhas or coult iufiltra...</td>\n",
              "      <td>neutral</td>\n",
              "      <td>neutral</td>\n",
              "      <td>offensive-hate</td>\n",
              "      <td>neutral</td>\n",
              "    </tr>\n",
              "    <tr>\n",
              "      <th>10</th>\n",
              "      <td>01562.png</td>\n",
              "      <td>hnow roaches hewhiem vou shul ol Lhe kulchen L...</td>\n",
              "      <td>ofenssive-hate</td>\n",
              "      <td>neutral</td>\n",
              "      <td>offensive-hate</td>\n",
              "      <td>neutral</td>\n",
              "    </tr>\n",
              "    <tr>\n",
              "      <th>11</th>\n",
              "      <td>01642.png</td>\n",
              "      <td>this would heracistIf hlack people couldread</td>\n",
              "      <td>neutral</td>\n",
              "      <td>happy</td>\n",
              "      <td>offensive-hate</td>\n",
              "      <td>happy</td>\n",
              "    </tr>\n",
              "    <tr>\n",
              "      <th>12</th>\n",
              "      <td>01567.png</td>\n",
              "      <td>Hitler was an evil man</td>\n",
              "      <td>neutral</td>\n",
              "      <td>happy</td>\n",
              "      <td>neutral</td>\n",
              "      <td>happy</td>\n",
              "    </tr>\n",
              "    <tr>\n",
              "      <th>13</th>\n",
              "      <td>01285.png</td>\n",
              "      <td>dlo i have t0 goto sqace?pp</td>\n",
              "      <td>neutral</td>\n",
              "      <td>neutral</td>\n",
              "      <td>neutral</td>\n",
              "      <td>neutral</td>\n",
              "    </tr>\n",
              "    <tr>\n",
              "      <th>14</th>\n",
              "      <td>01475.png</td>\n",
              "      <td>last time MuSlimsimvaded euronevlau stuck pole...</td>\n",
              "      <td>neutral</td>\n",
              "      <td>neutral</td>\n",
              "      <td>offensive-hate</td>\n",
              "      <td>neutral</td>\n",
              "    </tr>\n",
              "    <tr>\n",
              "      <th>15</th>\n",
              "      <td>01327.png</td>\n",
              "      <td>1'I1 not sick; i'I1 twistedsick makes it sound...</td>\n",
              "      <td>neutral</td>\n",
              "      <td>neutral</td>\n",
              "      <td>offensive-hate</td>\n",
              "      <td>neutral</td>\n",
              "    </tr>\n",
              "    <tr>\n",
              "      <th>16</th>\n",
              "      <td>01256.png</td>\n",
              "      <td>wlien vour tlehit carullecline at the ahortion...</td>\n",
              "      <td>neutral</td>\n",
              "      <td>neutral</td>\n",
              "      <td>offensive-hate</td>\n",
              "      <td>neutral</td>\n",
              "    </tr>\n",
              "    <tr>\n",
              "      <th>17</th>\n",
              "      <td>01258.png</td>\n",
              "      <td>ladies! if your manIs offended by thishe is a ...</td>\n",
              "      <td>ofenssive-hate</td>\n",
              "      <td>neutral</td>\n",
              "      <td>offensive-hate</td>\n",
              "      <td>neutral</td>\n",
              "    </tr>\n",
              "    <tr>\n",
              "      <th>18</th>\n",
              "      <td>01276.png</td>\n",
              "      <td>a smile iS worth athousand words</td>\n",
              "      <td>neutral</td>\n",
              "      <td>neutral</td>\n",
              "      <td>neutral</td>\n",
              "      <td>happy</td>\n",
              "    </tr>\n",
              "    <tr>\n",
              "      <th>19</th>\n",
              "      <td>01325.png</td>\n",
              "      <td>when vour world CUp) tealscores a goal</td>\n",
              "      <td>neutral</td>\n",
              "      <td>neutral</td>\n",
              "      <td>neutral</td>\n",
              "      <td>happy</td>\n",
              "    </tr>\n",
              "    <tr>\n",
              "      <th>20</th>\n",
              "      <td>01436.png</td>\n",
              "      <td>when the school shooteraccidleutly shoots tlie...</td>\n",
              "      <td>neutral</td>\n",
              "      <td>neutral</td>\n",
              "      <td>offensive-hate</td>\n",
              "      <td>neutral</td>\n",
              "    </tr>\n",
              "    <tr>\n",
              "      <th>21</th>\n",
              "      <td>01268.png</td>\n",
              "      <td>father aud daughter bondingtime is the hestIik...</td>\n",
              "      <td>neutral</td>\n",
              "      <td>neutral</td>\n",
              "      <td>neutral</td>\n",
              "      <td>happy</td>\n",
              "    </tr>\n",
              "  </tbody>\n",
              "</table>\n",
              "</div>"
            ],
            "text/plain": [
              "        Memes  ... gt_emotion\n",
              "0   01247.png  ...      angry\n",
              "1   01526.png  ...      happy\n",
              "2   01476.png  ...      happy\n",
              "3   01469.png  ...    neutral\n",
              "4   01735.png  ...      happy\n",
              "5   01578.png  ...    neutral\n",
              "6   01674.png  ...    neutral\n",
              "7   01756.png  ...    neutral\n",
              "8   01569.png  ...      happy\n",
              "9   01568.png  ...    neutral\n",
              "10  01562.png  ...    neutral\n",
              "11  01642.png  ...      happy\n",
              "12  01567.png  ...      happy\n",
              "13  01285.png  ...    neutral\n",
              "14  01475.png  ...    neutral\n",
              "15  01327.png  ...    neutral\n",
              "16  01256.png  ...    neutral\n",
              "17  01258.png  ...    neutral\n",
              "18  01276.png  ...      happy\n",
              "19  01325.png  ...      happy\n",
              "20  01436.png  ...    neutral\n",
              "21  01268.png  ...      happy\n",
              "\n",
              "[22 rows x 6 columns]"
            ]
          },
          "metadata": {},
          "execution_count": 60
        }
      ]
    },
    {
      "cell_type": "code",
      "metadata": {
        "id": "2t8COy-rC-6Y"
      },
      "source": [
        "df_curated.to_csv('/content/drive/Shareddrives/ProyectoTecnologíasEmergentes/Results/curated_results.csv')"
      ],
      "execution_count": 61,
      "outputs": []
    },
    {
      "cell_type": "code",
      "metadata": {
        "id": "hT5rHxHSElhB"
      },
      "source": [
        "df_example = pd.DataFrame({'mass': [0.330, 4.87 , 5.97],\n",
        "                   'radius': [2439.7, 6051.8, 6378.1]},\n",
        "                  index=['Mercury', 'Venus', 'Earth'])\n",
        "#plot = df.plot.pie(y='mass', figsize=(5, 5))"
      ],
      "execution_count": 62,
      "outputs": []
    },
    {
      "cell_type": "code",
      "metadata": {
        "colab": {
          "base_uri": "https://localhost:8080/",
          "height": 143
        },
        "id": "Tx49SEHbF8bi",
        "outputId": "6f86bb8b-33b0-4407-d863-0ad3e1619b6d"
      },
      "source": [
        "df_example"
      ],
      "execution_count": 63,
      "outputs": [
        {
          "output_type": "execute_result",
          "data": {
            "text/html": [
              "<div>\n",
              "<style scoped>\n",
              "    .dataframe tbody tr th:only-of-type {\n",
              "        vertical-align: middle;\n",
              "    }\n",
              "\n",
              "    .dataframe tbody tr th {\n",
              "        vertical-align: top;\n",
              "    }\n",
              "\n",
              "    .dataframe thead th {\n",
              "        text-align: right;\n",
              "    }\n",
              "</style>\n",
              "<table border=\"1\" class=\"dataframe\">\n",
              "  <thead>\n",
              "    <tr style=\"text-align: right;\">\n",
              "      <th></th>\n",
              "      <th>mass</th>\n",
              "      <th>radius</th>\n",
              "    </tr>\n",
              "  </thead>\n",
              "  <tbody>\n",
              "    <tr>\n",
              "      <th>Mercury</th>\n",
              "      <td>0.33</td>\n",
              "      <td>2439.7</td>\n",
              "    </tr>\n",
              "    <tr>\n",
              "      <th>Venus</th>\n",
              "      <td>4.87</td>\n",
              "      <td>6051.8</td>\n",
              "    </tr>\n",
              "    <tr>\n",
              "      <th>Earth</th>\n",
              "      <td>5.97</td>\n",
              "      <td>6378.1</td>\n",
              "    </tr>\n",
              "  </tbody>\n",
              "</table>\n",
              "</div>"
            ],
            "text/plain": [
              "         mass  radius\n",
              "Mercury  0.33  2439.7\n",
              "Venus    4.87  6051.8\n",
              "Earth    5.97  6378.1"
            ]
          },
          "metadata": {},
          "execution_count": 63
        }
      ]
    },
    {
      "cell_type": "code",
      "metadata": {
        "colab": {
          "base_uri": "https://localhost:8080/",
          "height": 771
        },
        "id": "hgt1zJhTGOTa",
        "outputId": "bfabfbe4-89c6-40f1-ea15-3ce9af83965e"
      },
      "source": [
        "df_piechart= df_curated.set_index('Memes')\n",
        "df_piechart"
      ],
      "execution_count": 64,
      "outputs": [
        {
          "output_type": "execute_result",
          "data": {
            "text/html": [
              "<div>\n",
              "<style scoped>\n",
              "    .dataframe tbody tr th:only-of-type {\n",
              "        vertical-align: middle;\n",
              "    }\n",
              "\n",
              "    .dataframe tbody tr th {\n",
              "        vertical-align: top;\n",
              "    }\n",
              "\n",
              "    .dataframe thead th {\n",
              "        text-align: right;\n",
              "    }\n",
              "</style>\n",
              "<table border=\"1\" class=\"dataframe\">\n",
              "  <thead>\n",
              "    <tr style=\"text-align: right;\">\n",
              "      <th></th>\n",
              "      <th>Transcription</th>\n",
              "      <th>Classification</th>\n",
              "      <th>emotion</th>\n",
              "      <th>gt</th>\n",
              "      <th>gt_emotion</th>\n",
              "    </tr>\n",
              "    <tr>\n",
              "      <th>Memes</th>\n",
              "      <th></th>\n",
              "      <th></th>\n",
              "      <th></th>\n",
              "      <th></th>\n",
              "      <th></th>\n",
              "    </tr>\n",
              "  </thead>\n",
              "  <tbody>\n",
              "    <tr>\n",
              "      <th>01247.png</th>\n",
              "      <td>vou CaI'he racist ifthere iS H1O other race</td>\n",
              "      <td>neutral</td>\n",
              "      <td>angry</td>\n",
              "      <td>offensive-hate</td>\n",
              "      <td>angry</td>\n",
              "    </tr>\n",
              "    <tr>\n",
              "      <th>01526.png</th>\n",
              "      <td>[Dut the qoney iT1 a hag. nowl that will he SO.15</td>\n",
              "      <td>neutral</td>\n",
              "      <td>neutral</td>\n",
              "      <td>neutral</td>\n",
              "      <td>happy</td>\n",
              "    </tr>\n",
              "    <tr>\n",
              "      <th>01476.png</th>\n",
              "      <td>II confitleut IIL IIIV OwI skit</td>\n",
              "      <td>neutral</td>\n",
              "      <td>neutral</td>\n",
              "      <td>neutral</td>\n",
              "      <td>happy</td>\n",
              "    </tr>\n",
              "    <tr>\n",
              "      <th>01469.png</th>\n",
              "      <td>wliem voL [UIIC h thne I1LuISLr kucl s0 hard t...</td>\n",
              "      <td>neutral</td>\n",
              "      <td>happy</td>\n",
              "      <td>offensive-hate</td>\n",
              "      <td>neutral</td>\n",
              "    </tr>\n",
              "    <tr>\n",
              "      <th>01735.png</th>\n",
              "      <td>Spending time with Dad</td>\n",
              "      <td>neutral</td>\n",
              "      <td>neutral</td>\n",
              "      <td>neutral</td>\n",
              "      <td>happy</td>\n",
              "    </tr>\n",
              "    <tr>\n",
              "      <th>01578.png</th>\n",
              "      <td>sea monkeys</td>\n",
              "      <td>neutral</td>\n",
              "      <td>neutral</td>\n",
              "      <td>offensive-hate</td>\n",
              "      <td>neutral</td>\n",
              "    </tr>\n",
              "    <tr>\n",
              "      <th>01674.png</th>\n",
              "      <td>went On a dlateIling dlate</td>\n",
              "      <td>neutral</td>\n",
              "      <td>neutral</td>\n",
              "      <td>neutral</td>\n",
              "      <td>neutral</td>\n",
              "    </tr>\n",
              "    <tr>\n",
              "      <th>01756.png</th>\n",
              "      <td>she iS a fastrumner</td>\n",
              "      <td>neutral</td>\n",
              "      <td>neutral</td>\n",
              "      <td>neutral</td>\n",
              "      <td>neutral</td>\n",
              "    </tr>\n",
              "    <tr>\n",
              "      <th>01569.png</th>\n",
              "      <td>when VOu can'( dlecicle t0 pre heat the ovemor...</td>\n",
              "      <td>neutral</td>\n",
              "      <td>neutral</td>\n",
              "      <td>neutral</td>\n",
              "      <td>happy</td>\n",
              "    </tr>\n",
              "    <tr>\n",
              "      <th>01568.png</th>\n",
              "      <td>tlo you think a terroristhas or coult iufiltra...</td>\n",
              "      <td>neutral</td>\n",
              "      <td>neutral</td>\n",
              "      <td>offensive-hate</td>\n",
              "      <td>neutral</td>\n",
              "    </tr>\n",
              "    <tr>\n",
              "      <th>01562.png</th>\n",
              "      <td>hnow roaches hewhiem vou shul ol Lhe kulchen L...</td>\n",
              "      <td>ofenssive-hate</td>\n",
              "      <td>neutral</td>\n",
              "      <td>offensive-hate</td>\n",
              "      <td>neutral</td>\n",
              "    </tr>\n",
              "    <tr>\n",
              "      <th>01642.png</th>\n",
              "      <td>this would heracistIf hlack people couldread</td>\n",
              "      <td>neutral</td>\n",
              "      <td>happy</td>\n",
              "      <td>offensive-hate</td>\n",
              "      <td>happy</td>\n",
              "    </tr>\n",
              "    <tr>\n",
              "      <th>01567.png</th>\n",
              "      <td>Hitler was an evil man</td>\n",
              "      <td>neutral</td>\n",
              "      <td>happy</td>\n",
              "      <td>neutral</td>\n",
              "      <td>happy</td>\n",
              "    </tr>\n",
              "    <tr>\n",
              "      <th>01285.png</th>\n",
              "      <td>dlo i have t0 goto sqace?pp</td>\n",
              "      <td>neutral</td>\n",
              "      <td>neutral</td>\n",
              "      <td>neutral</td>\n",
              "      <td>neutral</td>\n",
              "    </tr>\n",
              "    <tr>\n",
              "      <th>01475.png</th>\n",
              "      <td>last time MuSlimsimvaded euronevlau stuck pole...</td>\n",
              "      <td>neutral</td>\n",
              "      <td>neutral</td>\n",
              "      <td>offensive-hate</td>\n",
              "      <td>neutral</td>\n",
              "    </tr>\n",
              "    <tr>\n",
              "      <th>01327.png</th>\n",
              "      <td>1'I1 not sick; i'I1 twistedsick makes it sound...</td>\n",
              "      <td>neutral</td>\n",
              "      <td>neutral</td>\n",
              "      <td>offensive-hate</td>\n",
              "      <td>neutral</td>\n",
              "    </tr>\n",
              "    <tr>\n",
              "      <th>01256.png</th>\n",
              "      <td>wlien vour tlehit carullecline at the ahortion...</td>\n",
              "      <td>neutral</td>\n",
              "      <td>neutral</td>\n",
              "      <td>offensive-hate</td>\n",
              "      <td>neutral</td>\n",
              "    </tr>\n",
              "    <tr>\n",
              "      <th>01258.png</th>\n",
              "      <td>ladies! if your manIs offended by thishe is a ...</td>\n",
              "      <td>ofenssive-hate</td>\n",
              "      <td>neutral</td>\n",
              "      <td>offensive-hate</td>\n",
              "      <td>neutral</td>\n",
              "    </tr>\n",
              "    <tr>\n",
              "      <th>01276.png</th>\n",
              "      <td>a smile iS worth athousand words</td>\n",
              "      <td>neutral</td>\n",
              "      <td>neutral</td>\n",
              "      <td>neutral</td>\n",
              "      <td>happy</td>\n",
              "    </tr>\n",
              "    <tr>\n",
              "      <th>01325.png</th>\n",
              "      <td>when vour world CUp) tealscores a goal</td>\n",
              "      <td>neutral</td>\n",
              "      <td>neutral</td>\n",
              "      <td>neutral</td>\n",
              "      <td>happy</td>\n",
              "    </tr>\n",
              "    <tr>\n",
              "      <th>01436.png</th>\n",
              "      <td>when the school shooteraccidleutly shoots tlie...</td>\n",
              "      <td>neutral</td>\n",
              "      <td>neutral</td>\n",
              "      <td>offensive-hate</td>\n",
              "      <td>neutral</td>\n",
              "    </tr>\n",
              "    <tr>\n",
              "      <th>01268.png</th>\n",
              "      <td>father aud daughter bondingtime is the hestIik...</td>\n",
              "      <td>neutral</td>\n",
              "      <td>neutral</td>\n",
              "      <td>neutral</td>\n",
              "      <td>happy</td>\n",
              "    </tr>\n",
              "  </tbody>\n",
              "</table>\n",
              "</div>"
            ],
            "text/plain": [
              "                                               Transcription  ... gt_emotion\n",
              "Memes                                                         ...           \n",
              "01247.png        vou CaI'he racist ifthere iS H1O other race  ...      angry\n",
              "01526.png  [Dut the qoney iT1 a hag. nowl that will he SO.15  ...      happy\n",
              "01476.png                    II confitleut IIL IIIV OwI skit  ...      happy\n",
              "01469.png  wliem voL [UIIC h thne I1LuISLr kucl s0 hard t...  ...    neutral\n",
              "01735.png                             Spending time with Dad  ...      happy\n",
              "01578.png                                        sea monkeys  ...    neutral\n",
              "01674.png                         went On a dlateIling dlate  ...    neutral\n",
              "01756.png                                she iS a fastrumner  ...    neutral\n",
              "01569.png  when VOu can'( dlecicle t0 pre heat the ovemor...  ...      happy\n",
              "01568.png  tlo you think a terroristhas or coult iufiltra...  ...    neutral\n",
              "01562.png  hnow roaches hewhiem vou shul ol Lhe kulchen L...  ...    neutral\n",
              "01642.png       this would heracistIf hlack people couldread  ...      happy\n",
              "01567.png                             Hitler was an evil man  ...      happy\n",
              "01285.png                        dlo i have t0 goto sqace?pp  ...    neutral\n",
              "01475.png  last time MuSlimsimvaded euronevlau stuck pole...  ...    neutral\n",
              "01327.png  1'I1 not sick; i'I1 twistedsick makes it sound...  ...    neutral\n",
              "01256.png  wlien vour tlehit carullecline at the ahortion...  ...    neutral\n",
              "01258.png  ladies! if your manIs offended by thishe is a ...  ...    neutral\n",
              "01276.png                   a smile iS worth athousand words  ...      happy\n",
              "01325.png             when vour world CUp) tealscores a goal  ...      happy\n",
              "01436.png  when the school shooteraccidleutly shoots tlie...  ...    neutral\n",
              "01268.png  father aud daughter bondingtime is the hestIik...  ...      happy\n",
              "\n",
              "[22 rows x 5 columns]"
            ]
          },
          "metadata": {},
          "execution_count": 64
        }
      ]
    },
    {
      "cell_type": "code",
      "metadata": {
        "id": "x1iIeER9EtkO"
      },
      "source": [
        "final_df = df_curated.replace('ofenssive-hate', 'offensive-hate')"
      ],
      "execution_count": 72,
      "outputs": []
    },
    {
      "cell_type": "code",
      "metadata": {
        "colab": {
          "base_uri": "https://localhost:8080/",
          "height": 739
        },
        "id": "duHjltyoE6Vf",
        "outputId": "161d117b-0add-4de2-e0f5-e2f51333c1cb"
      },
      "source": [
        "final_df"
      ],
      "execution_count": 73,
      "outputs": [
        {
          "output_type": "execute_result",
          "data": {
            "text/html": [
              "<div>\n",
              "<style scoped>\n",
              "    .dataframe tbody tr th:only-of-type {\n",
              "        vertical-align: middle;\n",
              "    }\n",
              "\n",
              "    .dataframe tbody tr th {\n",
              "        vertical-align: top;\n",
              "    }\n",
              "\n",
              "    .dataframe thead th {\n",
              "        text-align: right;\n",
              "    }\n",
              "</style>\n",
              "<table border=\"1\" class=\"dataframe\">\n",
              "  <thead>\n",
              "    <tr style=\"text-align: right;\">\n",
              "      <th></th>\n",
              "      <th>Memes</th>\n",
              "      <th>Transcription</th>\n",
              "      <th>Classification</th>\n",
              "      <th>emotion</th>\n",
              "      <th>gt</th>\n",
              "      <th>gt_emotion</th>\n",
              "    </tr>\n",
              "  </thead>\n",
              "  <tbody>\n",
              "    <tr>\n",
              "      <th>0</th>\n",
              "      <td>01247.png</td>\n",
              "      <td>vou CaI'he racist ifthere iS H1O other race</td>\n",
              "      <td>neutral</td>\n",
              "      <td>angry</td>\n",
              "      <td>offensive-hate</td>\n",
              "      <td>angry</td>\n",
              "    </tr>\n",
              "    <tr>\n",
              "      <th>1</th>\n",
              "      <td>01526.png</td>\n",
              "      <td>[Dut the qoney iT1 a hag. nowl that will he SO.15</td>\n",
              "      <td>neutral</td>\n",
              "      <td>neutral</td>\n",
              "      <td>neutral</td>\n",
              "      <td>happy</td>\n",
              "    </tr>\n",
              "    <tr>\n",
              "      <th>2</th>\n",
              "      <td>01476.png</td>\n",
              "      <td>II confitleut IIL IIIV OwI skit</td>\n",
              "      <td>neutral</td>\n",
              "      <td>neutral</td>\n",
              "      <td>neutral</td>\n",
              "      <td>happy</td>\n",
              "    </tr>\n",
              "    <tr>\n",
              "      <th>3</th>\n",
              "      <td>01469.png</td>\n",
              "      <td>wliem voL [UIIC h thne I1LuISLr kucl s0 hard t...</td>\n",
              "      <td>neutral</td>\n",
              "      <td>happy</td>\n",
              "      <td>offensive-hate</td>\n",
              "      <td>neutral</td>\n",
              "    </tr>\n",
              "    <tr>\n",
              "      <th>4</th>\n",
              "      <td>01735.png</td>\n",
              "      <td>Spending time with Dad</td>\n",
              "      <td>neutral</td>\n",
              "      <td>neutral</td>\n",
              "      <td>neutral</td>\n",
              "      <td>happy</td>\n",
              "    </tr>\n",
              "    <tr>\n",
              "      <th>5</th>\n",
              "      <td>01578.png</td>\n",
              "      <td>sea monkeys</td>\n",
              "      <td>neutral</td>\n",
              "      <td>neutral</td>\n",
              "      <td>offensive-hate</td>\n",
              "      <td>neutral</td>\n",
              "    </tr>\n",
              "    <tr>\n",
              "      <th>6</th>\n",
              "      <td>01674.png</td>\n",
              "      <td>went On a dlateIling dlate</td>\n",
              "      <td>neutral</td>\n",
              "      <td>neutral</td>\n",
              "      <td>neutral</td>\n",
              "      <td>neutral</td>\n",
              "    </tr>\n",
              "    <tr>\n",
              "      <th>7</th>\n",
              "      <td>01756.png</td>\n",
              "      <td>she iS a fastrumner</td>\n",
              "      <td>neutral</td>\n",
              "      <td>neutral</td>\n",
              "      <td>neutral</td>\n",
              "      <td>neutral</td>\n",
              "    </tr>\n",
              "    <tr>\n",
              "      <th>8</th>\n",
              "      <td>01569.png</td>\n",
              "      <td>when VOu can'( dlecicle t0 pre heat the ovemor...</td>\n",
              "      <td>neutral</td>\n",
              "      <td>neutral</td>\n",
              "      <td>neutral</td>\n",
              "      <td>happy</td>\n",
              "    </tr>\n",
              "    <tr>\n",
              "      <th>9</th>\n",
              "      <td>01568.png</td>\n",
              "      <td>tlo you think a terroristhas or coult iufiltra...</td>\n",
              "      <td>neutral</td>\n",
              "      <td>neutral</td>\n",
              "      <td>offensive-hate</td>\n",
              "      <td>neutral</td>\n",
              "    </tr>\n",
              "    <tr>\n",
              "      <th>10</th>\n",
              "      <td>01562.png</td>\n",
              "      <td>hnow roaches hewhiem vou shul ol Lhe kulchen L...</td>\n",
              "      <td>offensive-hate</td>\n",
              "      <td>neutral</td>\n",
              "      <td>offensive-hate</td>\n",
              "      <td>neutral</td>\n",
              "    </tr>\n",
              "    <tr>\n",
              "      <th>11</th>\n",
              "      <td>01642.png</td>\n",
              "      <td>this would heracistIf hlack people couldread</td>\n",
              "      <td>neutral</td>\n",
              "      <td>happy</td>\n",
              "      <td>offensive-hate</td>\n",
              "      <td>happy</td>\n",
              "    </tr>\n",
              "    <tr>\n",
              "      <th>12</th>\n",
              "      <td>01567.png</td>\n",
              "      <td>Hitler was an evil man</td>\n",
              "      <td>neutral</td>\n",
              "      <td>happy</td>\n",
              "      <td>neutral</td>\n",
              "      <td>happy</td>\n",
              "    </tr>\n",
              "    <tr>\n",
              "      <th>13</th>\n",
              "      <td>01285.png</td>\n",
              "      <td>dlo i have t0 goto sqace?pp</td>\n",
              "      <td>neutral</td>\n",
              "      <td>neutral</td>\n",
              "      <td>neutral</td>\n",
              "      <td>neutral</td>\n",
              "    </tr>\n",
              "    <tr>\n",
              "      <th>14</th>\n",
              "      <td>01475.png</td>\n",
              "      <td>last time MuSlimsimvaded euronevlau stuck pole...</td>\n",
              "      <td>neutral</td>\n",
              "      <td>neutral</td>\n",
              "      <td>offensive-hate</td>\n",
              "      <td>neutral</td>\n",
              "    </tr>\n",
              "    <tr>\n",
              "      <th>15</th>\n",
              "      <td>01327.png</td>\n",
              "      <td>1'I1 not sick; i'I1 twistedsick makes it sound...</td>\n",
              "      <td>neutral</td>\n",
              "      <td>neutral</td>\n",
              "      <td>offensive-hate</td>\n",
              "      <td>neutral</td>\n",
              "    </tr>\n",
              "    <tr>\n",
              "      <th>16</th>\n",
              "      <td>01256.png</td>\n",
              "      <td>wlien vour tlehit carullecline at the ahortion...</td>\n",
              "      <td>neutral</td>\n",
              "      <td>neutral</td>\n",
              "      <td>offensive-hate</td>\n",
              "      <td>neutral</td>\n",
              "    </tr>\n",
              "    <tr>\n",
              "      <th>17</th>\n",
              "      <td>01258.png</td>\n",
              "      <td>ladies! if your manIs offended by thishe is a ...</td>\n",
              "      <td>offensive-hate</td>\n",
              "      <td>neutral</td>\n",
              "      <td>offensive-hate</td>\n",
              "      <td>neutral</td>\n",
              "    </tr>\n",
              "    <tr>\n",
              "      <th>18</th>\n",
              "      <td>01276.png</td>\n",
              "      <td>a smile iS worth athousand words</td>\n",
              "      <td>neutral</td>\n",
              "      <td>neutral</td>\n",
              "      <td>neutral</td>\n",
              "      <td>happy</td>\n",
              "    </tr>\n",
              "    <tr>\n",
              "      <th>19</th>\n",
              "      <td>01325.png</td>\n",
              "      <td>when vour world CUp) tealscores a goal</td>\n",
              "      <td>neutral</td>\n",
              "      <td>neutral</td>\n",
              "      <td>neutral</td>\n",
              "      <td>happy</td>\n",
              "    </tr>\n",
              "    <tr>\n",
              "      <th>20</th>\n",
              "      <td>01436.png</td>\n",
              "      <td>when the school shooteraccidleutly shoots tlie...</td>\n",
              "      <td>neutral</td>\n",
              "      <td>neutral</td>\n",
              "      <td>offensive-hate</td>\n",
              "      <td>neutral</td>\n",
              "    </tr>\n",
              "    <tr>\n",
              "      <th>21</th>\n",
              "      <td>01268.png</td>\n",
              "      <td>father aud daughter bondingtime is the hestIik...</td>\n",
              "      <td>neutral</td>\n",
              "      <td>neutral</td>\n",
              "      <td>neutral</td>\n",
              "      <td>happy</td>\n",
              "    </tr>\n",
              "  </tbody>\n",
              "</table>\n",
              "</div>"
            ],
            "text/plain": [
              "        Memes  ... gt_emotion\n",
              "0   01247.png  ...      angry\n",
              "1   01526.png  ...      happy\n",
              "2   01476.png  ...      happy\n",
              "3   01469.png  ...    neutral\n",
              "4   01735.png  ...      happy\n",
              "5   01578.png  ...    neutral\n",
              "6   01674.png  ...    neutral\n",
              "7   01756.png  ...    neutral\n",
              "8   01569.png  ...      happy\n",
              "9   01568.png  ...    neutral\n",
              "10  01562.png  ...    neutral\n",
              "11  01642.png  ...      happy\n",
              "12  01567.png  ...      happy\n",
              "13  01285.png  ...    neutral\n",
              "14  01475.png  ...    neutral\n",
              "15  01327.png  ...    neutral\n",
              "16  01256.png  ...    neutral\n",
              "17  01258.png  ...    neutral\n",
              "18  01276.png  ...      happy\n",
              "19  01325.png  ...      happy\n",
              "20  01436.png  ...    neutral\n",
              "21  01268.png  ...      happy\n",
              "\n",
              "[22 rows x 6 columns]"
            ]
          },
          "metadata": {},
          "execution_count": 73
        }
      ]
    },
    {
      "cell_type": "markdown",
      "metadata": {
        "id": "NFhfvgHfM6Db"
      },
      "source": [
        "### Cifras de Predicciones y Ground Truths\n",
        "\n"
      ]
    },
    {
      "cell_type": "markdown",
      "metadata": {
        "id": "icN8iZBkNZND"
      },
      "source": [
        "Resultados de NLP"
      ]
    },
    {
      "cell_type": "code",
      "metadata": {
        "colab": {
          "base_uri": "https://localhost:8080/"
        },
        "id": "wlovJqbdG5tX",
        "outputId": "068101ae-ae88-4a3c-cdf8-5eae37d7b6e8"
      },
      "source": [
        "df_curated['Classification'].value_counts()"
      ],
      "execution_count": 65,
      "outputs": [
        {
          "output_type": "execute_result",
          "data": {
            "text/plain": [
              "neutral           20\n",
              "ofenssive-hate     2\n",
              "Name: Classification, dtype: int64"
            ]
          },
          "metadata": {},
          "execution_count": 65
        }
      ]
    },
    {
      "cell_type": "markdown",
      "metadata": {
        "id": "5g0rZu0WNcCA"
      },
      "source": [
        "Resultados de pasar los memes por la red convolucional"
      ]
    },
    {
      "cell_type": "code",
      "metadata": {
        "colab": {
          "base_uri": "https://localhost:8080/"
        },
        "id": "1UwWBrx5KNmb",
        "outputId": "96a7fbbe-5697-4c64-94f2-f2170ed5a951"
      },
      "source": [
        "df_curated['emotion'].value_counts()"
      ],
      "execution_count": 66,
      "outputs": [
        {
          "output_type": "execute_result",
          "data": {
            "text/plain": [
              "neutral    18\n",
              "happy       3\n",
              "angry       1\n",
              "Name: emotion, dtype: int64"
            ]
          },
          "metadata": {},
          "execution_count": 66
        }
      ]
    },
    {
      "cell_type": "markdown",
      "metadata": {
        "id": "3Dod0kATNhWs"
      },
      "source": [
        "Clasificación de los textos de los memes por humanos, considerada para este caso como los ground truths. "
      ]
    },
    {
      "cell_type": "code",
      "metadata": {
        "colab": {
          "base_uri": "https://localhost:8080/"
        },
        "id": "4NUi0q6_KljM",
        "outputId": "a707fb20-d59e-4b33-a330-d28a011bce03"
      },
      "source": [
        "df_curated['gt'].value_counts()"
      ],
      "execution_count": 67,
      "outputs": [
        {
          "output_type": "execute_result",
          "data": {
            "text/plain": [
              "neutral           11\n",
              "offensive-hate    11\n",
              "Name: gt, dtype: int64"
            ]
          },
          "metadata": {},
          "execution_count": 67
        }
      ]
    },
    {
      "cell_type": "markdown",
      "metadata": {
        "id": "90rxiJbGsovi"
      },
      "source": [
        "Clasificación de las emociones de los memes por humanos, considerada para este caso como los ground truths. "
      ]
    },
    {
      "cell_type": "code",
      "metadata": {
        "colab": {
          "base_uri": "https://localhost:8080/"
        },
        "id": "ZYg-3VSqssWG",
        "outputId": "68e4ef1e-6a86-4df0-9543-c0eedd793057"
      },
      "source": [
        "df_curated['gt_emotion'].value_counts()"
      ],
      "execution_count": 68,
      "outputs": [
        {
          "output_type": "execute_result",
          "data": {
            "text/plain": [
              "neutral    12\n",
              "happy       9\n",
              "angry       1\n",
              "Name: gt_emotion, dtype: int64"
            ]
          },
          "metadata": {},
          "execution_count": 68
        }
      ]
    },
    {
      "cell_type": "markdown",
      "metadata": {
        "id": "t9rD6bi0Ob_t"
      },
      "source": [
        "### Cálculo de las matrices de confusión. \n",
        "\n",
        "\n"
      ]
    },
    {
      "cell_type": "markdown",
      "metadata": {
        "id": "PMa5Id8NFeHI"
      },
      "source": [
        "Matriz de confusión para la detección por texto "
      ]
    },
    {
      "cell_type": "code",
      "metadata": {
        "id": "kC6k-UqZC5ZH"
      },
      "source": [
        "nlp_predictions = final_df['Classification'].tolist()\n",
        "nlp_true = final_df['gt'].tolist()"
      ],
      "execution_count": 74,
      "outputs": []
    },
    {
      "cell_type": "code",
      "metadata": {
        "colab": {
          "base_uri": "https://localhost:8080/"
        },
        "id": "8L9x1n2LObaI",
        "outputId": "8edf01c8-f550-478a-e76d-21d45e903554"
      },
      "source": [
        "from sklearn import metrics\n",
        "\n",
        "# Valores verdaderos\n",
        "y_true = nlp_true\n",
        "# Valores de las predicciones\n",
        "y_pred = nlp_predictions\n",
        "\n",
        "# Imprimimos la matriz de confusión.\n",
        "print(metrics.confusion_matrix(y_true, y_pred, labels= [\"neutral\", \"offensive-hate\"]))\n",
        "\n",
        "# Imprimimos las métricas de confusión. \n",
        "print(metrics.classification_report(y_true, y_pred, digits=3))"
      ],
      "execution_count": 76,
      "outputs": [
        {
          "output_type": "stream",
          "name": "stdout",
          "text": [
            "[[11  0]\n",
            " [ 9  2]]\n",
            "                precision    recall  f1-score   support\n",
            "\n",
            "       neutral      0.550     1.000     0.710        11\n",
            "offensive-hate      1.000     0.182     0.308        11\n",
            "\n",
            "      accuracy                          0.591        22\n",
            "     macro avg      0.775     0.591     0.509        22\n",
            "  weighted avg      0.775     0.591     0.509        22\n",
            "\n"
          ]
        }
      ]
    },
    {
      "cell_type": "markdown",
      "metadata": {
        "id": "8JMKxi5kGAeH"
      },
      "source": [
        "Matriz de confusión para la detección de emociones"
      ]
    },
    {
      "cell_type": "code",
      "metadata": {
        "id": "xH869lGpGDvK"
      },
      "source": [
        "cnn_predictions = final_df['emotion'].tolist()\n",
        "cnn_true = final_df['gt_emotion'].tolist()"
      ],
      "execution_count": 79,
      "outputs": []
    },
    {
      "cell_type": "code",
      "metadata": {
        "colab": {
          "base_uri": "https://localhost:8080/"
        },
        "id": "PBjtuQ53GfH1",
        "outputId": "67593876-e551-4814-f0de-78f584465486"
      },
      "source": [
        "from sklearn import metrics\n",
        "\n",
        "# Valores verdaderos\n",
        "y_true = cnn_true\n",
        "# Valores de las predicciones\n",
        "y_pred = cnn_predictions\n",
        "\n",
        "# Imprimimos la matriz de confusión.\n",
        "print(metrics.confusion_matrix(y_true, y_pred))\n",
        "\n",
        "# Imprimimos las métricas de confusión. \n",
        "print(metrics.classification_report(y_true, y_pred, digits=3))"
      ],
      "execution_count": 80,
      "outputs": [
        {
          "output_type": "stream",
          "name": "stdout",
          "text": [
            "[[ 1  0  0]\n",
            " [ 0  2  7]\n",
            " [ 0  1 11]]\n",
            "              precision    recall  f1-score   support\n",
            "\n",
            "       angry      1.000     1.000     1.000         1\n",
            "       happy      0.667     0.222     0.333         9\n",
            "     neutral      0.611     0.917     0.733        12\n",
            "\n",
            "    accuracy                          0.636        22\n",
            "   macro avg      0.759     0.713     0.689        22\n",
            "weighted avg      0.652     0.636     0.582        22\n",
            "\n"
          ]
        }
      ]
    },
    {
      "cell_type": "markdown",
      "metadata": {
        "id": "DRBGI43BI18Q"
      },
      "source": [
        "Guardamos el .csv con los resultados"
      ]
    },
    {
      "cell_type": "code",
      "metadata": {
        "id": "Nxc8lsy6I4Oi"
      },
      "source": [
        "final_df.to_csv('/content/drive/Shareddrives/ProyectoTecnologíasEmergentes/Results/final_results.csv')"
      ],
      "execution_count": null,
      "outputs": []
    }
  ]
}